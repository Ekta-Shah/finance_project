{
  "nbformat": 4,
  "nbformat_minor": 0,
  "metadata": {
    "colab": {
      "name": "Finance_Loan.ipynb",
      "version": "0.3.2",
      "provenance": [],
      "collapsed_sections": []
    },
    "kernelspec": {
      "display_name": "Python 3",
      "language": "python",
      "name": "python3"
    }
  },
  "cells": [
    {
      "metadata": {
        "id": "Jz5YyxD4FVF2",
        "colab_type": "code",
        "colab": {}
      },
      "cell_type": "code",
      "source": [
        "import pandas as pd"
      ],
      "execution_count": 0,
      "outputs": []
    },
    {
      "metadata": {
        "id": "gEJvVnmiFVGA",
        "colab_type": "code",
        "colab": {}
      },
      "cell_type": "code",
      "source": [
        "import numpy as np"
      ],
      "execution_count": 0,
      "outputs": []
    },
    {
      "metadata": {
        "id": "781LQxacSXnV",
        "colab_type": "code",
        "outputId": "c428f21a-bd1f-40da-8450-fb136c762534",
        "colab": {
          "base_uri": "https://localhost:8080/",
          "height": 52
        }
      },
      "cell_type": "code",
      "source": [
        "#Using file from Google Drive\n",
        "!pip install -U -q PyDrive\n",
        "from pydrive.auth import GoogleAuth\n",
        "from pydrive.drive import GoogleDrive\n",
        "from google.colab import auth\n",
        "from oauth2client.client import GoogleCredentials\n",
        "# Authenticate and create the PyDrive client.\n",
        "auth.authenticate_user()\n",
        "gauth = GoogleAuth()\n",
        "gauth.credentials = GoogleCredentials.get_application_default()\n",
        "drive = GoogleDrive(gauth)"
      ],
      "execution_count": 4,
      "outputs": [
        {
          "output_type": "stream",
          "text": [
            "\u001b[?25l\r\u001b[K    1% |▎                               | 10kB 17.1MB/s eta 0:00:01\r\u001b[K    2% |▋                               | 20kB 1.9MB/s eta 0:00:01\r\u001b[K    3% |█                               | 30kB 2.7MB/s eta 0:00:01\r\u001b[K    4% |█▎                              | 40kB 1.8MB/s eta 0:00:01\r\u001b[K    5% |█▋                              | 51kB 2.2MB/s eta 0:00:01\r\u001b[K    6% |██                              | 61kB 2.6MB/s eta 0:00:01\r\u001b[K    7% |██▎                             | 71kB 3.0MB/s eta 0:00:01\r\u001b[K    8% |██▋                             | 81kB 3.4MB/s eta 0:00:01\r\u001b[K    9% |███                             | 92kB 3.8MB/s eta 0:00:01\r\u001b[K    10% |███▎                            | 102kB 2.9MB/s eta 0:00:01\r\u001b[K    11% |███▋                            | 112kB 2.9MB/s eta 0:00:01\r\u001b[K    12% |████                            | 122kB 4.1MB/s eta 0:00:01\r\u001b[K    13% |████▎                           | 133kB 4.1MB/s eta 0:00:01\r\u001b[K    14% |████▋                           | 143kB 7.7MB/s eta 0:00:01\r\u001b[K    15% |█████                           | 153kB 7.9MB/s eta 0:00:01\r\u001b[K    16% |█████▎                          | 163kB 7.9MB/s eta 0:00:01\r\u001b[K    17% |█████▋                          | 174kB 7.8MB/s eta 0:00:01\r\u001b[K    18% |██████                          | 184kB 7.8MB/s eta 0:00:01\r\u001b[K    19% |██████▎                         | 194kB 7.8MB/s eta 0:00:01\r\u001b[K    20% |██████▋                         | 204kB 41.3MB/s eta 0:00:01\r\u001b[K    21% |███████                         | 215kB 8.8MB/s eta 0:00:01\r\u001b[K    22% |███████▎                        | 225kB 8.7MB/s eta 0:00:01\r\u001b[K    23% |███████▋                        | 235kB 8.7MB/s eta 0:00:01\r\u001b[K    24% |████████                        | 245kB 8.7MB/s eta 0:00:01\r\u001b[K    25% |████████▎                       | 256kB 8.7MB/s eta 0:00:01\r\u001b[K    26% |████████▋                       | 266kB 8.5MB/s eta 0:00:01\r\u001b[K    27% |█████████                       | 276kB 8.7MB/s eta 0:00:01\r\u001b[K    29% |█████████▎                      | 286kB 8.7MB/s eta 0:00:01\r\u001b[K    30% |█████████▋                      | 296kB 8.6MB/s eta 0:00:01\r\u001b[K    31% |██████████                      | 307kB 8.8MB/s eta 0:00:01\r\u001b[K    32% |██████████▎                     | 317kB 45.1MB/s eta 0:00:01\r\u001b[K    33% |██████████▋                     | 327kB 48.0MB/s eta 0:00:01\r\u001b[K    34% |███████████                     | 337kB 49.7MB/s eta 0:00:01\r\u001b[K    35% |███████████▎                    | 348kB 44.5MB/s eta 0:00:01\r\u001b[K    36% |███████████▋                    | 358kB 44.7MB/s eta 0:00:01\r\u001b[K    37% |████████████                    | 368kB 49.3MB/s eta 0:00:01\r\u001b[K    38% |████████████▎                   | 378kB 46.6MB/s eta 0:00:01\r\u001b[K    39% |████████████▋                   | 389kB 46.2MB/s eta 0:00:01\r\u001b[K    40% |█████████████                   | 399kB 9.8MB/s eta 0:00:01\r\u001b[K    41% |█████████████▎                  | 409kB 9.4MB/s eta 0:00:01\r\u001b[K    42% |█████████████▋                  | 419kB 9.4MB/s eta 0:00:01\r\u001b[K    43% |██████████████                  | 430kB 9.3MB/s eta 0:00:01\r\u001b[K    44% |██████████████▎                 | 440kB 9.3MB/s eta 0:00:01\r\u001b[K    45% |██████████████▋                 | 450kB 9.3MB/s eta 0:00:01\r\u001b[K    46% |███████████████                 | 460kB 9.3MB/s eta 0:00:01\r\u001b[K    47% |███████████████▎                | 471kB 9.4MB/s eta 0:00:01\r\u001b[K    48% |███████████████▋                | 481kB 9.5MB/s eta 0:00:01\r\u001b[K    49% |████████████████                | 491kB 9.5MB/s eta 0:00:01\r\u001b[K    50% |████████████████▎               | 501kB 40.8MB/s eta 0:00:01\r\u001b[K    51% |████████████████▋               | 512kB 44.0MB/s eta 0:00:01\r\u001b[K    52% |█████████████████               | 522kB 44.5MB/s eta 0:00:01\r\u001b[K    53% |█████████████████▎              | 532kB 47.9MB/s eta 0:00:01\r\u001b[K    54% |█████████████████▋              | 542kB 9.4MB/s eta 0:00:01\r\u001b[K    55% |██████████████████              | 552kB 9.3MB/s eta 0:00:01\r\u001b[K    57% |██████████████████▎             | 563kB 9.3MB/s eta 0:00:01\r\u001b[K    58% |██████████████████▋             | 573kB 9.2MB/s eta 0:00:01\r\u001b[K    59% |███████████████████             | 583kB 9.3MB/s eta 0:00:01\r\u001b[K    60% |███████████████████▎            | 593kB 9.2MB/s eta 0:00:01\r\u001b[K    61% |███████████████████▋            | 604kB 9.2MB/s eta 0:00:01\r\u001b[K    62% |████████████████████            | 614kB 9.4MB/s eta 0:00:01\r\u001b[K    63% |████████████████████▎           | 624kB 9.3MB/s eta 0:00:01\r\u001b[K    64% |████████████████████▋           | 634kB 9.3MB/s eta 0:00:01\r\u001b[K    65% |█████████████████████           | 645kB 47.8MB/s eta 0:00:01\r\u001b[K    66% |█████████████████████▎          | 655kB 57.7MB/s eta 0:00:01\r\u001b[K    67% |█████████████████████▋          | 665kB 44.4MB/s eta 0:00:01\r\u001b[K    68% |██████████████████████          | 675kB 43.6MB/s eta 0:00:01\r\u001b[K    69% |██████████████████████▎         | 686kB 43.8MB/s eta 0:00:01\r\u001b[K    70% |██████████████████████▋         | 696kB 44.7MB/s eta 0:00:01\r\u001b[K    71% |███████████████████████         | 706kB 44.7MB/s eta 0:00:01\r\u001b[K    72% |███████████████████████▎        | 716kB 45.1MB/s eta 0:00:01\r\u001b[K    73% |███████████████████████▋        | 727kB 46.2MB/s eta 0:00:01\r\u001b[K    74% |████████████████████████        | 737kB 45.5MB/s eta 0:00:01\r\u001b[K    75% |████████████████████████▎       | 747kB 45.4MB/s eta 0:00:01\r\u001b[K    76% |████████████████████████▋       | 757kB 45.3MB/s eta 0:00:01\r\u001b[K    77% |████████████████████████▉       | 768kB 60.6MB/s eta 0:00:01\r\u001b[K    78% |█████████████████████████▏      | 778kB 62.7MB/s eta 0:00:01\r\u001b[K    79% |█████████████████████████▌      | 788kB 61.3MB/s eta 0:00:01\r\u001b[K    80% |█████████████████████████▉      | 798kB 59.7MB/s eta 0:00:01\r\u001b[K    81% |██████████████████████████▏     | 808kB 59.2MB/s eta 0:00:01\r\u001b[K    82% |██████████████████████████▌     | 819kB 58.2MB/s eta 0:00:01\r\u001b[K    83% |██████████████████████████▉     | 829kB 59.1MB/s eta 0:00:01\r\u001b[K    85% |███████████████████████████▏    | 839kB 59.7MB/s eta 0:00:01\r\u001b[K    86% |███████████████████████████▌    | 849kB 59.9MB/s eta 0:00:01\r\u001b[K    87% |███████████████████████████▉    | 860kB 50.3MB/s eta 0:00:01\r\u001b[K    88% |████████████████████████████▏   | 870kB 49.2MB/s eta 0:00:01\r\u001b[K    89% |████████████████████████████▌   | 880kB 50.1MB/s eta 0:00:01\r\u001b[K    90% |████████████████████████████▉   | 890kB 50.5MB/s eta 0:00:01\r\u001b[K    91% |█████████████████████████████▏  | 901kB 51.1MB/s eta 0:00:01\r\u001b[K    92% |█████████████████████████████▌  | 911kB 51.5MB/s eta 0:00:01\r\u001b[K    93% |█████████████████████████████▉  | 921kB 52.1MB/s eta 0:00:01\r\u001b[K    94% |██████████████████████████████▏ | 931kB 51.9MB/s eta 0:00:01\r\u001b[K    95% |██████████████████████████████▌ | 942kB 52.2MB/s eta 0:00:01\r\u001b[K    96% |██████████████████████████████▉ | 952kB 52.2MB/s eta 0:00:01\r\u001b[K    97% |███████████████████████████████▏| 962kB 62.8MB/s eta 0:00:01\r\u001b[K    98% |███████████████████████████████▌| 972kB 63.6MB/s eta 0:00:01\r\u001b[K    99% |███████████████████████████████▉| 983kB 62.5MB/s eta 0:00:01\r\u001b[K    100% |████████████████████████████████| 993kB 16.8MB/s \n",
            "\u001b[?25h  Building wheel for PyDrive (setup.py) ... \u001b[?25ldone\n",
            "\u001b[?25h"
          ],
          "name": "stdout"
        }
      ]
    },
    {
      "metadata": {
        "id": "3Z1movpmSq1K",
        "colab_type": "code",
        "outputId": "feeb9845-a329-42de-f86a-b943ee09c56c",
        "colab": {
          "base_uri": "https://localhost:8080/",
          "height": 90
        }
      },
      "cell_type": "code",
      "source": [
        "link = \"https://drive.google.com/open?id=1DynCfU4LHpNT4U_hxFTm4f_kTwgTkMxT\"\n",
        "fluff, id = link.split('=')\n",
        "print (id) # Verify that you have everything after '='\n",
        "downloaded = drive.CreateFile({'id':id}) \n",
        "downloaded.GetContentFile('loan.csv')  \n",
        "df = pd.read_csv('loan.csv')"
      ],
      "execution_count": 5,
      "outputs": [
        {
          "output_type": "stream",
          "text": [
            "1DynCfU4LHpNT4U_hxFTm4f_kTwgTkMxT\n"
          ],
          "name": "stdout"
        },
        {
          "output_type": "stream",
          "text": [
            "/usr/local/lib/python3.6/dist-packages/IPython/core/interactiveshell.py:2718: DtypeWarning: Columns (19,55) have mixed types. Specify dtype option on import or set low_memory=False.\n",
            "  interactivity=interactivity, compiler=compiler, result=result)\n"
          ],
          "name": "stderr"
        }
      ]
    },
    {
      "metadata": {
        "id": "wnDrpsNrFVGP",
        "colab_type": "code",
        "outputId": "7822313e-22d0-41d4-f197-e45c471f0b4c",
        "colab": {
          "base_uri": "https://localhost:8080/",
          "height": 330
        }
      },
      "cell_type": "code",
      "source": [
        "df.head()"
      ],
      "execution_count": 120,
      "outputs": [
        {
          "output_type": "execute_result",
          "data": {
            "text/html": [
              "<div>\n",
              "<style scoped>\n",
              "    .dataframe tbody tr th:only-of-type {\n",
              "        vertical-align: middle;\n",
              "    }\n",
              "\n",
              "    .dataframe tbody tr th {\n",
              "        vertical-align: top;\n",
              "    }\n",
              "\n",
              "    .dataframe thead th {\n",
              "        text-align: right;\n",
              "    }\n",
              "</style>\n",
              "<table border=\"1\" class=\"dataframe\">\n",
              "  <thead>\n",
              "    <tr style=\"text-align: right;\">\n",
              "      <th></th>\n",
              "      <th>id</th>\n",
              "      <th>member_id</th>\n",
              "      <th>loan_amnt</th>\n",
              "      <th>funded_amnt</th>\n",
              "      <th>funded_amnt_inv</th>\n",
              "      <th>term</th>\n",
              "      <th>int_rate</th>\n",
              "      <th>installment</th>\n",
              "      <th>grade</th>\n",
              "      <th>sub_grade</th>\n",
              "      <th>...</th>\n",
              "      <th>total_bal_il</th>\n",
              "      <th>il_util</th>\n",
              "      <th>open_rv_12m</th>\n",
              "      <th>open_rv_24m</th>\n",
              "      <th>max_bal_bc</th>\n",
              "      <th>all_util</th>\n",
              "      <th>total_rev_hi_lim</th>\n",
              "      <th>inq_fi</th>\n",
              "      <th>total_cu_tl</th>\n",
              "      <th>inq_last_12m</th>\n",
              "    </tr>\n",
              "  </thead>\n",
              "  <tbody>\n",
              "    <tr>\n",
              "      <th>0</th>\n",
              "      <td>1077501</td>\n",
              "      <td>1296599</td>\n",
              "      <td>5000.0</td>\n",
              "      <td>5000.0</td>\n",
              "      <td>4975.0</td>\n",
              "      <td>36 months</td>\n",
              "      <td>10.65</td>\n",
              "      <td>162.87</td>\n",
              "      <td>B</td>\n",
              "      <td>B2</td>\n",
              "      <td>...</td>\n",
              "      <td>NaN</td>\n",
              "      <td>NaN</td>\n",
              "      <td>NaN</td>\n",
              "      <td>NaN</td>\n",
              "      <td>NaN</td>\n",
              "      <td>NaN</td>\n",
              "      <td>NaN</td>\n",
              "      <td>NaN</td>\n",
              "      <td>NaN</td>\n",
              "      <td>NaN</td>\n",
              "    </tr>\n",
              "    <tr>\n",
              "      <th>1</th>\n",
              "      <td>1077430</td>\n",
              "      <td>1314167</td>\n",
              "      <td>2500.0</td>\n",
              "      <td>2500.0</td>\n",
              "      <td>2500.0</td>\n",
              "      <td>60 months</td>\n",
              "      <td>15.27</td>\n",
              "      <td>59.83</td>\n",
              "      <td>C</td>\n",
              "      <td>C4</td>\n",
              "      <td>...</td>\n",
              "      <td>NaN</td>\n",
              "      <td>NaN</td>\n",
              "      <td>NaN</td>\n",
              "      <td>NaN</td>\n",
              "      <td>NaN</td>\n",
              "      <td>NaN</td>\n",
              "      <td>NaN</td>\n",
              "      <td>NaN</td>\n",
              "      <td>NaN</td>\n",
              "      <td>NaN</td>\n",
              "    </tr>\n",
              "    <tr>\n",
              "      <th>2</th>\n",
              "      <td>1077175</td>\n",
              "      <td>1313524</td>\n",
              "      <td>2400.0</td>\n",
              "      <td>2400.0</td>\n",
              "      <td>2400.0</td>\n",
              "      <td>36 months</td>\n",
              "      <td>15.96</td>\n",
              "      <td>84.33</td>\n",
              "      <td>C</td>\n",
              "      <td>C5</td>\n",
              "      <td>...</td>\n",
              "      <td>NaN</td>\n",
              "      <td>NaN</td>\n",
              "      <td>NaN</td>\n",
              "      <td>NaN</td>\n",
              "      <td>NaN</td>\n",
              "      <td>NaN</td>\n",
              "      <td>NaN</td>\n",
              "      <td>NaN</td>\n",
              "      <td>NaN</td>\n",
              "      <td>NaN</td>\n",
              "    </tr>\n",
              "    <tr>\n",
              "      <th>3</th>\n",
              "      <td>1076863</td>\n",
              "      <td>1277178</td>\n",
              "      <td>10000.0</td>\n",
              "      <td>10000.0</td>\n",
              "      <td>10000.0</td>\n",
              "      <td>36 months</td>\n",
              "      <td>13.49</td>\n",
              "      <td>339.31</td>\n",
              "      <td>C</td>\n",
              "      <td>C1</td>\n",
              "      <td>...</td>\n",
              "      <td>NaN</td>\n",
              "      <td>NaN</td>\n",
              "      <td>NaN</td>\n",
              "      <td>NaN</td>\n",
              "      <td>NaN</td>\n",
              "      <td>NaN</td>\n",
              "      <td>NaN</td>\n",
              "      <td>NaN</td>\n",
              "      <td>NaN</td>\n",
              "      <td>NaN</td>\n",
              "    </tr>\n",
              "    <tr>\n",
              "      <th>4</th>\n",
              "      <td>1075358</td>\n",
              "      <td>1311748</td>\n",
              "      <td>3000.0</td>\n",
              "      <td>3000.0</td>\n",
              "      <td>3000.0</td>\n",
              "      <td>60 months</td>\n",
              "      <td>12.69</td>\n",
              "      <td>67.79</td>\n",
              "      <td>B</td>\n",
              "      <td>B5</td>\n",
              "      <td>...</td>\n",
              "      <td>NaN</td>\n",
              "      <td>NaN</td>\n",
              "      <td>NaN</td>\n",
              "      <td>NaN</td>\n",
              "      <td>NaN</td>\n",
              "      <td>NaN</td>\n",
              "      <td>NaN</td>\n",
              "      <td>NaN</td>\n",
              "      <td>NaN</td>\n",
              "      <td>NaN</td>\n",
              "    </tr>\n",
              "  </tbody>\n",
              "</table>\n",
              "<p>5 rows × 74 columns</p>\n",
              "</div>"
            ],
            "text/plain": [
              "        id  member_id  loan_amnt  funded_amnt  funded_amnt_inv        term  \\\n",
              "0  1077501    1296599     5000.0       5000.0           4975.0   36 months   \n",
              "1  1077430    1314167     2500.0       2500.0           2500.0   60 months   \n",
              "2  1077175    1313524     2400.0       2400.0           2400.0   36 months   \n",
              "3  1076863    1277178    10000.0      10000.0          10000.0   36 months   \n",
              "4  1075358    1311748     3000.0       3000.0           3000.0   60 months   \n",
              "\n",
              "   int_rate  installment grade sub_grade     ...      total_bal_il il_util  \\\n",
              "0     10.65       162.87     B        B2     ...               NaN     NaN   \n",
              "1     15.27        59.83     C        C4     ...               NaN     NaN   \n",
              "2     15.96        84.33     C        C5     ...               NaN     NaN   \n",
              "3     13.49       339.31     C        C1     ...               NaN     NaN   \n",
              "4     12.69        67.79     B        B5     ...               NaN     NaN   \n",
              "\n",
              "  open_rv_12m  open_rv_24m max_bal_bc all_util total_rev_hi_lim inq_fi  \\\n",
              "0         NaN          NaN        NaN      NaN              NaN    NaN   \n",
              "1         NaN          NaN        NaN      NaN              NaN    NaN   \n",
              "2         NaN          NaN        NaN      NaN              NaN    NaN   \n",
              "3         NaN          NaN        NaN      NaN              NaN    NaN   \n",
              "4         NaN          NaN        NaN      NaN              NaN    NaN   \n",
              "\n",
              "  total_cu_tl inq_last_12m  \n",
              "0         NaN          NaN  \n",
              "1         NaN          NaN  \n",
              "2         NaN          NaN  \n",
              "3         NaN          NaN  \n",
              "4         NaN          NaN  \n",
              "\n",
              "[5 rows x 74 columns]"
            ]
          },
          "metadata": {
            "tags": []
          },
          "execution_count": 120
        }
      ]
    },
    {
      "metadata": {
        "id": "z63g6ywqFVGW",
        "colab_type": "code",
        "outputId": "0b906462-cd5b-43b4-9206-885c302ed293",
        "colab": {
          "base_uri": "https://localhost:8080/",
          "height": 1118
        }
      },
      "cell_type": "code",
      "source": [
        "df.dtypes"
      ],
      "execution_count": 7,
      "outputs": [
        {
          "output_type": "execute_result",
          "data": {
            "text/plain": [
              "id                               int64\n",
              "member_id                        int64\n",
              "loan_amnt                      float64\n",
              "funded_amnt                    float64\n",
              "funded_amnt_inv                float64\n",
              "term                            object\n",
              "int_rate                       float64\n",
              "installment                    float64\n",
              "grade                           object\n",
              "sub_grade                       object\n",
              "emp_title                       object\n",
              "emp_length                      object\n",
              "home_ownership                  object\n",
              "annual_inc                     float64\n",
              "verification_status             object\n",
              "issue_d                         object\n",
              "loan_status                     object\n",
              "pymnt_plan                      object\n",
              "url                             object\n",
              "desc                            object\n",
              "purpose                         object\n",
              "title                           object\n",
              "zip_code                        object\n",
              "addr_state                      object\n",
              "dti                            float64\n",
              "delinq_2yrs                    float64\n",
              "earliest_cr_line                object\n",
              "inq_last_6mths                 float64\n",
              "mths_since_last_delinq         float64\n",
              "mths_since_last_record         float64\n",
              "                                ...   \n",
              "collection_recovery_fee        float64\n",
              "last_pymnt_d                    object\n",
              "last_pymnt_amnt                float64\n",
              "next_pymnt_d                    object\n",
              "last_credit_pull_d              object\n",
              "collections_12_mths_ex_med     float64\n",
              "mths_since_last_major_derog    float64\n",
              "policy_code                    float64\n",
              "application_type                object\n",
              "annual_inc_joint               float64\n",
              "dti_joint                      float64\n",
              "verification_status_joint       object\n",
              "acc_now_delinq                 float64\n",
              "tot_coll_amt                   float64\n",
              "tot_cur_bal                    float64\n",
              "open_acc_6m                    float64\n",
              "open_il_6m                     float64\n",
              "open_il_12m                    float64\n",
              "open_il_24m                    float64\n",
              "mths_since_rcnt_il             float64\n",
              "total_bal_il                   float64\n",
              "il_util                        float64\n",
              "open_rv_12m                    float64\n",
              "open_rv_24m                    float64\n",
              "max_bal_bc                     float64\n",
              "all_util                       float64\n",
              "total_rev_hi_lim               float64\n",
              "inq_fi                         float64\n",
              "total_cu_tl                    float64\n",
              "inq_last_12m                   float64\n",
              "Length: 74, dtype: object"
            ]
          },
          "metadata": {
            "tags": []
          },
          "execution_count": 7
        }
      ]
    },
    {
      "metadata": {
        "id": "X3zkZfoeFVGp",
        "colab_type": "code",
        "outputId": "cc67b147-fd6e-44a6-97ac-c876a0720187",
        "colab": {
          "base_uri": "https://localhost:8080/",
          "height": 1118
        }
      },
      "cell_type": "code",
      "source": [
        "df.isnull().sum()"
      ],
      "execution_count": 8,
      "outputs": [
        {
          "output_type": "execute_result",
          "data": {
            "text/plain": [
              "id                                  0\n",
              "member_id                           0\n",
              "loan_amnt                           0\n",
              "funded_amnt                         0\n",
              "funded_amnt_inv                     0\n",
              "term                                0\n",
              "int_rate                            0\n",
              "installment                         0\n",
              "grade                               0\n",
              "sub_grade                           0\n",
              "emp_title                       51462\n",
              "emp_length                      44825\n",
              "home_ownership                      0\n",
              "annual_inc                          4\n",
              "verification_status                 0\n",
              "issue_d                             0\n",
              "loan_status                         0\n",
              "pymnt_plan                          0\n",
              "url                                 0\n",
              "desc                           761351\n",
              "purpose                             0\n",
              "title                             152\n",
              "zip_code                            0\n",
              "addr_state                          0\n",
              "dti                                 0\n",
              "delinq_2yrs                        29\n",
              "earliest_cr_line                   29\n",
              "inq_last_6mths                     29\n",
              "mths_since_last_delinq         454312\n",
              "mths_since_last_record         750326\n",
              "                                ...  \n",
              "collection_recovery_fee             0\n",
              "last_pymnt_d                    17659\n",
              "last_pymnt_amnt                     0\n",
              "next_pymnt_d                   252971\n",
              "last_credit_pull_d                 53\n",
              "collections_12_mths_ex_med        145\n",
              "mths_since_last_major_derog    665676\n",
              "policy_code                         0\n",
              "application_type                    0\n",
              "annual_inc_joint               886868\n",
              "dti_joint                      886870\n",
              "verification_status_joint      886868\n",
              "acc_now_delinq                     29\n",
              "tot_coll_amt                    70276\n",
              "tot_cur_bal                     70276\n",
              "open_acc_6m                    866007\n",
              "open_il_6m                     866007\n",
              "open_il_12m                    866007\n",
              "open_il_24m                    866007\n",
              "mths_since_rcnt_il             866569\n",
              "total_bal_il                   866007\n",
              "il_util                        868762\n",
              "open_rv_12m                    866007\n",
              "open_rv_24m                    866007\n",
              "max_bal_bc                     866007\n",
              "all_util                       866007\n",
              "total_rev_hi_lim                70276\n",
              "inq_fi                         866007\n",
              "total_cu_tl                    866007\n",
              "inq_last_12m                   866007\n",
              "Length: 74, dtype: int64"
            ]
          },
          "metadata": {
            "tags": []
          },
          "execution_count": 8
        }
      ]
    },
    {
      "metadata": {
        "id": "tK5R5jUDFVGw",
        "colab_type": "code",
        "colab": {}
      },
      "cell_type": "code",
      "source": [
        "newdf=df.drop([\"inq_last_12m\",\"emp_title\",\"zip_code\",\"url\",\"total_cu_tl\",\"inq_fi\",\"all_util\",\"open_acc_6m\",\"open_il_6m\",\"open_il_12m\",\"open_il_24m\",\"mths_since_rcnt_il\",\"total_bal_il\",\"il_util\",\"open_rv_12m\",\"open_rv_24m\",\"max_bal_bc\",\"annual_inc_joint\",\"dti_joint\",\"verification_status_joint\",\"mths_since_last_major_derog\",\"mths_since_last_delinq\",\"mths_since_last_record\",\"desc\"],1)"
      ],
      "execution_count": 0,
      "outputs": []
    },
    {
      "metadata": {
        "id": "X0dY8L4UFVG2",
        "colab_type": "code",
        "outputId": "6b6360ab-50b5-45be-b818-0d92ba6d3e42",
        "colab": {
          "base_uri": "https://localhost:8080/",
          "height": 923
        }
      },
      "cell_type": "code",
      "source": [
        "newdf.isnull().sum()"
      ],
      "execution_count": 122,
      "outputs": [
        {
          "output_type": "execute_result",
          "data": {
            "text/plain": [
              "id                                 0\n",
              "member_id                          0\n",
              "loan_amnt                          0\n",
              "funded_amnt                        0\n",
              "funded_amnt_inv                    0\n",
              "term                               0\n",
              "int_rate                           0\n",
              "installment                        0\n",
              "grade                              0\n",
              "sub_grade                          0\n",
              "emp_length                     44825\n",
              "home_ownership                     0\n",
              "annual_inc                         4\n",
              "verification_status                0\n",
              "issue_d                            0\n",
              "loan_status                        0\n",
              "pymnt_plan                         0\n",
              "purpose                            0\n",
              "title                            152\n",
              "addr_state                         0\n",
              "dti                                0\n",
              "delinq_2yrs                       29\n",
              "earliest_cr_line                  29\n",
              "inq_last_6mths                    29\n",
              "open_acc                          29\n",
              "pub_rec                           29\n",
              "revol_bal                          0\n",
              "revol_util                       502\n",
              "total_acc                         29\n",
              "initial_list_status                0\n",
              "out_prncp                          0\n",
              "out_prncp_inv                      0\n",
              "total_pymnt                        0\n",
              "total_pymnt_inv                    0\n",
              "total_rec_prncp                    0\n",
              "total_rec_int                      0\n",
              "total_rec_late_fee                 0\n",
              "recoveries                         0\n",
              "collection_recovery_fee            0\n",
              "last_pymnt_d                   17659\n",
              "last_pymnt_amnt                    0\n",
              "next_pymnt_d                  252971\n",
              "last_credit_pull_d                53\n",
              "collections_12_mths_ex_med       145\n",
              "policy_code                        0\n",
              "application_type                   0\n",
              "acc_now_delinq                    29\n",
              "tot_coll_amt                   70276\n",
              "tot_cur_bal                    70276\n",
              "total_rev_hi_lim               70276\n",
              "dtype: int64"
            ]
          },
          "metadata": {
            "tags": []
          },
          "execution_count": 122
        }
      ]
    },
    {
      "metadata": {
        "id": "pOrP9JMNFVHU",
        "colab_type": "code",
        "colab": {}
      },
      "cell_type": "code",
      "source": [
        "newdf=newdf.drop([\"next_pymnt_d\",\"issue_d\",\"last_pymnt_d\",\"last_credit_pull_d\",\"earliest_cr_line\",\"title\",\"id\",\"member_id\"],1)"
      ],
      "execution_count": 0,
      "outputs": []
    },
    {
      "metadata": {
        "id": "tlTz3bhUFVH2",
        "colab_type": "code",
        "outputId": "8c11d1dd-5dcd-4483-f077-c219173cd0c1",
        "colab": {
          "base_uri": "https://localhost:8080/",
          "height": 246
        }
      },
      "cell_type": "code",
      "source": [
        "numerical_cols=newdf.select_dtypes(include=np.number)\n",
        "numerical_cols.head()"
      ],
      "execution_count": 125,
      "outputs": [
        {
          "output_type": "execute_result",
          "data": {
            "text/html": [
              "<div>\n",
              "<style scoped>\n",
              "    .dataframe tbody tr th:only-of-type {\n",
              "        vertical-align: middle;\n",
              "    }\n",
              "\n",
              "    .dataframe tbody tr th {\n",
              "        vertical-align: top;\n",
              "    }\n",
              "\n",
              "    .dataframe thead th {\n",
              "        text-align: right;\n",
              "    }\n",
              "</style>\n",
              "<table border=\"1\" class=\"dataframe\">\n",
              "  <thead>\n",
              "    <tr style=\"text-align: right;\">\n",
              "      <th></th>\n",
              "      <th>loan_amnt</th>\n",
              "      <th>funded_amnt</th>\n",
              "      <th>funded_amnt_inv</th>\n",
              "      <th>int_rate</th>\n",
              "      <th>installment</th>\n",
              "      <th>annual_inc</th>\n",
              "      <th>dti</th>\n",
              "      <th>delinq_2yrs</th>\n",
              "      <th>inq_last_6mths</th>\n",
              "      <th>open_acc</th>\n",
              "      <th>...</th>\n",
              "      <th>total_rec_late_fee</th>\n",
              "      <th>recoveries</th>\n",
              "      <th>collection_recovery_fee</th>\n",
              "      <th>last_pymnt_amnt</th>\n",
              "      <th>collections_12_mths_ex_med</th>\n",
              "      <th>policy_code</th>\n",
              "      <th>acc_now_delinq</th>\n",
              "      <th>tot_coll_amt</th>\n",
              "      <th>tot_cur_bal</th>\n",
              "      <th>total_rev_hi_lim</th>\n",
              "    </tr>\n",
              "  </thead>\n",
              "  <tbody>\n",
              "    <tr>\n",
              "      <th>0</th>\n",
              "      <td>5000.0</td>\n",
              "      <td>5000.0</td>\n",
              "      <td>4975.0</td>\n",
              "      <td>10.65</td>\n",
              "      <td>162.87</td>\n",
              "      <td>24000.0</td>\n",
              "      <td>27.65</td>\n",
              "      <td>0.0</td>\n",
              "      <td>1.0</td>\n",
              "      <td>3.0</td>\n",
              "      <td>...</td>\n",
              "      <td>0.00</td>\n",
              "      <td>0.00</td>\n",
              "      <td>0.00</td>\n",
              "      <td>171.62</td>\n",
              "      <td>0.0</td>\n",
              "      <td>1.0</td>\n",
              "      <td>0.0</td>\n",
              "      <td>NaN</td>\n",
              "      <td>NaN</td>\n",
              "      <td>NaN</td>\n",
              "    </tr>\n",
              "    <tr>\n",
              "      <th>1</th>\n",
              "      <td>2500.0</td>\n",
              "      <td>2500.0</td>\n",
              "      <td>2500.0</td>\n",
              "      <td>15.27</td>\n",
              "      <td>59.83</td>\n",
              "      <td>30000.0</td>\n",
              "      <td>1.00</td>\n",
              "      <td>0.0</td>\n",
              "      <td>5.0</td>\n",
              "      <td>3.0</td>\n",
              "      <td>...</td>\n",
              "      <td>0.00</td>\n",
              "      <td>117.08</td>\n",
              "      <td>1.11</td>\n",
              "      <td>119.66</td>\n",
              "      <td>0.0</td>\n",
              "      <td>1.0</td>\n",
              "      <td>0.0</td>\n",
              "      <td>NaN</td>\n",
              "      <td>NaN</td>\n",
              "      <td>NaN</td>\n",
              "    </tr>\n",
              "    <tr>\n",
              "      <th>2</th>\n",
              "      <td>2400.0</td>\n",
              "      <td>2400.0</td>\n",
              "      <td>2400.0</td>\n",
              "      <td>15.96</td>\n",
              "      <td>84.33</td>\n",
              "      <td>12252.0</td>\n",
              "      <td>8.72</td>\n",
              "      <td>0.0</td>\n",
              "      <td>2.0</td>\n",
              "      <td>2.0</td>\n",
              "      <td>...</td>\n",
              "      <td>0.00</td>\n",
              "      <td>0.00</td>\n",
              "      <td>0.00</td>\n",
              "      <td>649.91</td>\n",
              "      <td>0.0</td>\n",
              "      <td>1.0</td>\n",
              "      <td>0.0</td>\n",
              "      <td>NaN</td>\n",
              "      <td>NaN</td>\n",
              "      <td>NaN</td>\n",
              "    </tr>\n",
              "    <tr>\n",
              "      <th>3</th>\n",
              "      <td>10000.0</td>\n",
              "      <td>10000.0</td>\n",
              "      <td>10000.0</td>\n",
              "      <td>13.49</td>\n",
              "      <td>339.31</td>\n",
              "      <td>49200.0</td>\n",
              "      <td>20.00</td>\n",
              "      <td>0.0</td>\n",
              "      <td>1.0</td>\n",
              "      <td>10.0</td>\n",
              "      <td>...</td>\n",
              "      <td>16.97</td>\n",
              "      <td>0.00</td>\n",
              "      <td>0.00</td>\n",
              "      <td>357.48</td>\n",
              "      <td>0.0</td>\n",
              "      <td>1.0</td>\n",
              "      <td>0.0</td>\n",
              "      <td>NaN</td>\n",
              "      <td>NaN</td>\n",
              "      <td>NaN</td>\n",
              "    </tr>\n",
              "    <tr>\n",
              "      <th>4</th>\n",
              "      <td>3000.0</td>\n",
              "      <td>3000.0</td>\n",
              "      <td>3000.0</td>\n",
              "      <td>12.69</td>\n",
              "      <td>67.79</td>\n",
              "      <td>80000.0</td>\n",
              "      <td>17.94</td>\n",
              "      <td>0.0</td>\n",
              "      <td>0.0</td>\n",
              "      <td>15.0</td>\n",
              "      <td>...</td>\n",
              "      <td>0.00</td>\n",
              "      <td>0.00</td>\n",
              "      <td>0.00</td>\n",
              "      <td>67.79</td>\n",
              "      <td>0.0</td>\n",
              "      <td>1.0</td>\n",
              "      <td>0.0</td>\n",
              "      <td>NaN</td>\n",
              "      <td>NaN</td>\n",
              "      <td>NaN</td>\n",
              "    </tr>\n",
              "  </tbody>\n",
              "</table>\n",
              "<p>5 rows × 30 columns</p>\n",
              "</div>"
            ],
            "text/plain": [
              "   loan_amnt  funded_amnt  funded_amnt_inv  int_rate  installment  annual_inc  \\\n",
              "0     5000.0       5000.0           4975.0     10.65       162.87     24000.0   \n",
              "1     2500.0       2500.0           2500.0     15.27        59.83     30000.0   \n",
              "2     2400.0       2400.0           2400.0     15.96        84.33     12252.0   \n",
              "3    10000.0      10000.0          10000.0     13.49       339.31     49200.0   \n",
              "4     3000.0       3000.0           3000.0     12.69        67.79     80000.0   \n",
              "\n",
              "     dti  delinq_2yrs  inq_last_6mths  open_acc        ...         \\\n",
              "0  27.65          0.0             1.0       3.0        ...          \n",
              "1   1.00          0.0             5.0       3.0        ...          \n",
              "2   8.72          0.0             2.0       2.0        ...          \n",
              "3  20.00          0.0             1.0      10.0        ...          \n",
              "4  17.94          0.0             0.0      15.0        ...          \n",
              "\n",
              "   total_rec_late_fee  recoveries  collection_recovery_fee  last_pymnt_amnt  \\\n",
              "0                0.00        0.00                     0.00           171.62   \n",
              "1                0.00      117.08                     1.11           119.66   \n",
              "2                0.00        0.00                     0.00           649.91   \n",
              "3               16.97        0.00                     0.00           357.48   \n",
              "4                0.00        0.00                     0.00            67.79   \n",
              "\n",
              "   collections_12_mths_ex_med  policy_code  acc_now_delinq  tot_coll_amt  \\\n",
              "0                         0.0          1.0             0.0           NaN   \n",
              "1                         0.0          1.0             0.0           NaN   \n",
              "2                         0.0          1.0             0.0           NaN   \n",
              "3                         0.0          1.0             0.0           NaN   \n",
              "4                         0.0          1.0             0.0           NaN   \n",
              "\n",
              "   tot_cur_bal  total_rev_hi_lim  \n",
              "0          NaN               NaN  \n",
              "1          NaN               NaN  \n",
              "2          NaN               NaN  \n",
              "3          NaN               NaN  \n",
              "4          NaN               NaN  \n",
              "\n",
              "[5 rows x 30 columns]"
            ]
          },
          "metadata": {
            "tags": []
          },
          "execution_count": 125
        }
      ]
    },
    {
      "metadata": {
        "id": "3_-8muASFVH7",
        "colab_type": "code",
        "colab": {}
      },
      "cell_type": "code",
      "source": [
        "categorical_cols=newdf.select_dtypes(exclude=np.number)"
      ],
      "execution_count": 0,
      "outputs": []
    },
    {
      "metadata": {
        "id": "4nANjm8fFVIB",
        "colab_type": "code",
        "outputId": "f3490392-fdaf-47f1-d900-ee05e6b9f95d",
        "colab": {
          "base_uri": "https://localhost:8080/",
          "height": 197
        }
      },
      "cell_type": "code",
      "source": [
        "categorical_cols.head()"
      ],
      "execution_count": 127,
      "outputs": [
        {
          "output_type": "execute_result",
          "data": {
            "text/html": [
              "<div>\n",
              "<style scoped>\n",
              "    .dataframe tbody tr th:only-of-type {\n",
              "        vertical-align: middle;\n",
              "    }\n",
              "\n",
              "    .dataframe tbody tr th {\n",
              "        vertical-align: top;\n",
              "    }\n",
              "\n",
              "    .dataframe thead th {\n",
              "        text-align: right;\n",
              "    }\n",
              "</style>\n",
              "<table border=\"1\" class=\"dataframe\">\n",
              "  <thead>\n",
              "    <tr style=\"text-align: right;\">\n",
              "      <th></th>\n",
              "      <th>term</th>\n",
              "      <th>grade</th>\n",
              "      <th>sub_grade</th>\n",
              "      <th>emp_length</th>\n",
              "      <th>home_ownership</th>\n",
              "      <th>verification_status</th>\n",
              "      <th>loan_status</th>\n",
              "      <th>pymnt_plan</th>\n",
              "      <th>purpose</th>\n",
              "      <th>addr_state</th>\n",
              "      <th>initial_list_status</th>\n",
              "      <th>application_type</th>\n",
              "    </tr>\n",
              "  </thead>\n",
              "  <tbody>\n",
              "    <tr>\n",
              "      <th>0</th>\n",
              "      <td>36 months</td>\n",
              "      <td>B</td>\n",
              "      <td>B2</td>\n",
              "      <td>10+ years</td>\n",
              "      <td>RENT</td>\n",
              "      <td>Verified</td>\n",
              "      <td>Fully Paid</td>\n",
              "      <td>n</td>\n",
              "      <td>credit_card</td>\n",
              "      <td>AZ</td>\n",
              "      <td>f</td>\n",
              "      <td>INDIVIDUAL</td>\n",
              "    </tr>\n",
              "    <tr>\n",
              "      <th>1</th>\n",
              "      <td>60 months</td>\n",
              "      <td>C</td>\n",
              "      <td>C4</td>\n",
              "      <td>&lt; 1 year</td>\n",
              "      <td>RENT</td>\n",
              "      <td>Source Verified</td>\n",
              "      <td>Charged Off</td>\n",
              "      <td>n</td>\n",
              "      <td>car</td>\n",
              "      <td>GA</td>\n",
              "      <td>f</td>\n",
              "      <td>INDIVIDUAL</td>\n",
              "    </tr>\n",
              "    <tr>\n",
              "      <th>2</th>\n",
              "      <td>36 months</td>\n",
              "      <td>C</td>\n",
              "      <td>C5</td>\n",
              "      <td>10+ years</td>\n",
              "      <td>RENT</td>\n",
              "      <td>Not Verified</td>\n",
              "      <td>Fully Paid</td>\n",
              "      <td>n</td>\n",
              "      <td>small_business</td>\n",
              "      <td>IL</td>\n",
              "      <td>f</td>\n",
              "      <td>INDIVIDUAL</td>\n",
              "    </tr>\n",
              "    <tr>\n",
              "      <th>3</th>\n",
              "      <td>36 months</td>\n",
              "      <td>C</td>\n",
              "      <td>C1</td>\n",
              "      <td>10+ years</td>\n",
              "      <td>RENT</td>\n",
              "      <td>Source Verified</td>\n",
              "      <td>Fully Paid</td>\n",
              "      <td>n</td>\n",
              "      <td>other</td>\n",
              "      <td>CA</td>\n",
              "      <td>f</td>\n",
              "      <td>INDIVIDUAL</td>\n",
              "    </tr>\n",
              "    <tr>\n",
              "      <th>4</th>\n",
              "      <td>60 months</td>\n",
              "      <td>B</td>\n",
              "      <td>B5</td>\n",
              "      <td>1 year</td>\n",
              "      <td>RENT</td>\n",
              "      <td>Source Verified</td>\n",
              "      <td>Current</td>\n",
              "      <td>n</td>\n",
              "      <td>other</td>\n",
              "      <td>OR</td>\n",
              "      <td>f</td>\n",
              "      <td>INDIVIDUAL</td>\n",
              "    </tr>\n",
              "  </tbody>\n",
              "</table>\n",
              "</div>"
            ],
            "text/plain": [
              "         term grade sub_grade emp_length home_ownership verification_status  \\\n",
              "0   36 months     B        B2  10+ years           RENT            Verified   \n",
              "1   60 months     C        C4   < 1 year           RENT     Source Verified   \n",
              "2   36 months     C        C5  10+ years           RENT        Not Verified   \n",
              "3   36 months     C        C1  10+ years           RENT     Source Verified   \n",
              "4   60 months     B        B5     1 year           RENT     Source Verified   \n",
              "\n",
              "   loan_status pymnt_plan         purpose addr_state initial_list_status  \\\n",
              "0   Fully Paid          n     credit_card         AZ                   f   \n",
              "1  Charged Off          n             car         GA                   f   \n",
              "2   Fully Paid          n  small_business         IL                   f   \n",
              "3   Fully Paid          n           other         CA                   f   \n",
              "4      Current          n           other         OR                   f   \n",
              "\n",
              "  application_type  \n",
              "0       INDIVIDUAL  \n",
              "1       INDIVIDUAL  \n",
              "2       INDIVIDUAL  \n",
              "3       INDIVIDUAL  \n",
              "4       INDIVIDUAL  "
            ]
          },
          "metadata": {
            "tags": []
          },
          "execution_count": 127
        }
      ]
    },
    {
      "metadata": {
        "id": "zbzNnOfEFVIS",
        "colab_type": "code",
        "colab": {}
      },
      "cell_type": "code",
      "source": [
        "numerical_cols.isnull().sum()\n",
        "num_X=[\"annual_inc\",\"acc_now_delinq\",\"delinq_2yrs\",\"inq_last_6mths\",\"open_acc\",\"pub_rec\",\"revol_util\",\"total_acc\",\"collections_12_mths_ex_med\",\"tot_coll_amt\",\"tot_cur_bal\",\"total_rev_hi_lim\"]"
      ],
      "execution_count": 0,
      "outputs": []
    },
    {
      "metadata": {
        "id": "wnp5iGDyFVIX",
        "colab_type": "code",
        "outputId": "26595ff3-9240-4963-c746-039f79254e9a",
        "colab": {
          "base_uri": "https://localhost:8080/",
          "height": 247
        }
      },
      "cell_type": "code",
      "source": [
        "categorical_cols.isnull().sum()"
      ],
      "execution_count": 130,
      "outputs": [
        {
          "output_type": "execute_result",
          "data": {
            "text/plain": [
              "term                       0\n",
              "grade                      0\n",
              "sub_grade                  0\n",
              "emp_length             44825\n",
              "home_ownership             0\n",
              "verification_status        0\n",
              "loan_status                0\n",
              "pymnt_plan                 0\n",
              "purpose                    0\n",
              "addr_state                 0\n",
              "initial_list_status        0\n",
              "application_type           0\n",
              "dtype: int64"
            ]
          },
          "metadata": {
            "tags": []
          },
          "execution_count": 130
        }
      ]
    },
    {
      "metadata": {
        "id": "44INnzclFVIg",
        "colab_type": "code",
        "colab": {}
      },
      "cell_type": "code",
      "source": [
        "def clean_numerical(column):\n",
        "    mean=newdf[newdf[column]!=np.nan][column].astype(float).mean()\n",
        "    newdf[column] = newdf[column].replace(np.nan,str(mean)).astype(float)\n",
        "    return newdf"
      ],
      "execution_count": 0,
      "outputs": []
    },
    {
      "metadata": {
        "id": "xzgUag8LFVIl",
        "colab_type": "code",
        "colab": {}
      },
      "cell_type": "code",
      "source": [
        "for i in num_X:\n",
        "  clean_numerical(i)\n"
      ],
      "execution_count": 0,
      "outputs": []
    },
    {
      "metadata": {
        "id": "uIx5KZ4hFVIp",
        "colab_type": "code",
        "outputId": "c44a7d9d-ed4b-4b06-a1fc-fca0acb6bdf8",
        "colab": {
          "base_uri": "https://localhost:8080/",
          "height": 781
        }
      },
      "cell_type": "code",
      "source": [
        "newdf.isnull().sum()"
      ],
      "execution_count": 133,
      "outputs": [
        {
          "output_type": "execute_result",
          "data": {
            "text/plain": [
              "loan_amnt                         0\n",
              "funded_amnt                       0\n",
              "funded_amnt_inv                   0\n",
              "term                              0\n",
              "int_rate                          0\n",
              "installment                       0\n",
              "grade                             0\n",
              "sub_grade                         0\n",
              "emp_length                    44825\n",
              "home_ownership                    0\n",
              "annual_inc                        0\n",
              "verification_status               0\n",
              "loan_status                       0\n",
              "pymnt_plan                        0\n",
              "purpose                           0\n",
              "addr_state                        0\n",
              "dti                               0\n",
              "delinq_2yrs                       0\n",
              "inq_last_6mths                    0\n",
              "open_acc                          0\n",
              "pub_rec                           0\n",
              "revol_bal                         0\n",
              "revol_util                        0\n",
              "total_acc                         0\n",
              "initial_list_status               0\n",
              "out_prncp                         0\n",
              "out_prncp_inv                     0\n",
              "total_pymnt                       0\n",
              "total_pymnt_inv                   0\n",
              "total_rec_prncp                   0\n",
              "total_rec_int                     0\n",
              "total_rec_late_fee                0\n",
              "recoveries                        0\n",
              "collection_recovery_fee           0\n",
              "last_pymnt_amnt                   0\n",
              "collections_12_mths_ex_med        0\n",
              "policy_code                       0\n",
              "application_type                  0\n",
              "acc_now_delinq                    0\n",
              "tot_coll_amt                      0\n",
              "tot_cur_bal                       0\n",
              "total_rev_hi_lim                  0\n",
              "dtype: int64"
            ]
          },
          "metadata": {
            "tags": []
          },
          "execution_count": 133
        }
      ]
    },
    {
      "metadata": {
        "id": "owl0nGEYFVIw",
        "colab_type": "code",
        "outputId": "af3fafa5-acb2-47da-ad3a-f534fa4a4632",
        "colab": {
          "base_uri": "https://localhost:8080/",
          "height": 247
        }
      },
      "cell_type": "code",
      "source": [
        "categorical_cols.isnull().sum()"
      ],
      "execution_count": 134,
      "outputs": [
        {
          "output_type": "execute_result",
          "data": {
            "text/plain": [
              "term                       0\n",
              "grade                      0\n",
              "sub_grade                  0\n",
              "emp_length             44825\n",
              "home_ownership             0\n",
              "verification_status        0\n",
              "loan_status                0\n",
              "pymnt_plan                 0\n",
              "purpose                    0\n",
              "addr_state                 0\n",
              "initial_list_status        0\n",
              "application_type           0\n",
              "dtype: int64"
            ]
          },
          "metadata": {
            "tags": []
          },
          "execution_count": 134
        }
      ]
    },
    {
      "metadata": {
        "id": "A5dCCvBlFVI4",
        "colab_type": "code",
        "colab": {}
      },
      "cell_type": "code",
      "source": [
        "def clean_categorical(column):\n",
        "    mode=newdf[newdf[column]!=np.nan][column].mode()\n",
        "    newdf[column] = newdf[column].replace(np.nan,str(mode))\n",
        "    return newdf"
      ],
      "execution_count": 0,
      "outputs": []
    },
    {
      "metadata": {
        "id": "ertkXBI0aGf1",
        "colab_type": "code",
        "outputId": "0a6eac36-6cbc-4000-f356-3bbddc1e45c9",
        "colab": {
          "base_uri": "https://localhost:8080/",
          "height": 781
        }
      },
      "cell_type": "code",
      "source": [
        "newdf.isnull().sum()"
      ],
      "execution_count": 136,
      "outputs": [
        {
          "output_type": "execute_result",
          "data": {
            "text/plain": [
              "loan_amnt                         0\n",
              "funded_amnt                       0\n",
              "funded_amnt_inv                   0\n",
              "term                              0\n",
              "int_rate                          0\n",
              "installment                       0\n",
              "grade                             0\n",
              "sub_grade                         0\n",
              "emp_length                    44825\n",
              "home_ownership                    0\n",
              "annual_inc                        0\n",
              "verification_status               0\n",
              "loan_status                       0\n",
              "pymnt_plan                        0\n",
              "purpose                           0\n",
              "addr_state                        0\n",
              "dti                               0\n",
              "delinq_2yrs                       0\n",
              "inq_last_6mths                    0\n",
              "open_acc                          0\n",
              "pub_rec                           0\n",
              "revol_bal                         0\n",
              "revol_util                        0\n",
              "total_acc                         0\n",
              "initial_list_status               0\n",
              "out_prncp                         0\n",
              "out_prncp_inv                     0\n",
              "total_pymnt                       0\n",
              "total_pymnt_inv                   0\n",
              "total_rec_prncp                   0\n",
              "total_rec_int                     0\n",
              "total_rec_late_fee                0\n",
              "recoveries                        0\n",
              "collection_recovery_fee           0\n",
              "last_pymnt_amnt                   0\n",
              "collections_12_mths_ex_med        0\n",
              "policy_code                       0\n",
              "application_type                  0\n",
              "acc_now_delinq                    0\n",
              "tot_coll_amt                      0\n",
              "tot_cur_bal                       0\n",
              "total_rev_hi_lim                  0\n",
              "dtype: int64"
            ]
          },
          "metadata": {
            "tags": []
          },
          "execution_count": 136
        }
      ]
    },
    {
      "metadata": {
        "id": "yrTrzf7vFVI8",
        "colab_type": "code",
        "outputId": "a3657929-33a8-4415-f687-0bc82f08a3cd",
        "colab": {
          "base_uri": "https://localhost:8080/",
          "height": 212
        }
      },
      "cell_type": "code",
      "source": [
        "#Encoding\n",
        "#pd.get_dummies(newdf)\n",
        "newdf[\"loan_status\"].value_counts()"
      ],
      "execution_count": 137,
      "outputs": [
        {
          "output_type": "execute_result",
          "data": {
            "text/plain": [
              "Current                                                601779\n",
              "Fully Paid                                             207723\n",
              "Charged Off                                             45248\n",
              "Late (31-120 days)                                      11591\n",
              "Issued                                                   8460\n",
              "In Grace Period                                          6253\n",
              "Late (16-30 days)                                        2357\n",
              "Does not meet the credit policy. Status:Fully Paid       1988\n",
              "Default                                                  1219\n",
              "Does not meet the credit policy. Status:Charged Off       761\n",
              "Name: loan_status, dtype: int64"
            ]
          },
          "metadata": {
            "tags": []
          },
          "execution_count": 137
        }
      ]
    },
    {
      "metadata": {
        "id": "2iVSbymSFVJC",
        "colab_type": "code",
        "outputId": "eb31a0f8-1b08-41e3-dbde-89276ac8c9ba",
        "colab": {
          "base_uri": "https://localhost:8080/",
          "height": 247
        }
      },
      "cell_type": "code",
      "source": [
        "categorical_cols.isnull().sum()"
      ],
      "execution_count": 138,
      "outputs": [
        {
          "output_type": "execute_result",
          "data": {
            "text/plain": [
              "term                       0\n",
              "grade                      0\n",
              "sub_grade                  0\n",
              "emp_length             44825\n",
              "home_ownership             0\n",
              "verification_status        0\n",
              "loan_status                0\n",
              "pymnt_plan                 0\n",
              "purpose                    0\n",
              "addr_state                 0\n",
              "initial_list_status        0\n",
              "application_type           0\n",
              "dtype: int64"
            ]
          },
          "metadata": {
            "tags": []
          },
          "execution_count": 138
        }
      ]
    },
    {
      "metadata": {
        "id": "F7qU0oMQFVJj",
        "colab_type": "code",
        "outputId": "cbf8be4c-232e-4fa2-ad33-4d7d089dc8f1",
        "colab": {
          "base_uri": "https://localhost:8080/",
          "height": 70
        }
      },
      "cell_type": "code",
      "source": [
        "clean_categorical(\"emp_length\")\n",
        "newdf[\"initial_list_status\"].value_counts()"
      ],
      "execution_count": 139,
      "outputs": [
        {
          "output_type": "execute_result",
          "data": {
            "text/plain": [
              "f    456848\n",
              "w    430531\n",
              "Name: initial_list_status, dtype: int64"
            ]
          },
          "metadata": {
            "tags": []
          },
          "execution_count": 139
        }
      ]
    },
    {
      "metadata": {
        "id": "2fqoepzqFVJx",
        "colab_type": "code",
        "outputId": "ed8e19c8-66bc-49df-d0c3-5011c5205fdf",
        "colab": {
          "base_uri": "https://localhost:8080/",
          "height": 212
        }
      },
      "cell_type": "code",
      "source": [
        "newdf[\"loan_status\"].value_counts()"
      ],
      "execution_count": 27,
      "outputs": [
        {
          "output_type": "execute_result",
          "data": {
            "text/plain": [
              "Current                                                601779\n",
              "Fully Paid                                             207723\n",
              "Charged Off                                             45248\n",
              "Late (31-120 days)                                      11591\n",
              "Issued                                                   8460\n",
              "In Grace Period                                          6253\n",
              "Late (16-30 days)                                        2357\n",
              "Does not meet the credit policy. Status:Fully Paid       1988\n",
              "Default                                                  1219\n",
              "Does not meet the credit policy. Status:Charged Off       761\n",
              "Name: loan_status, dtype: int64"
            ]
          },
          "metadata": {
            "tags": []
          },
          "execution_count": 27
        }
      ]
    },
    {
      "metadata": {
        "id": "PEU2tw-PFVJ5",
        "colab_type": "code",
        "outputId": "c2312eb5-2993-42b0-a353-55998cb39efb",
        "colab": {
          "base_uri": "https://localhost:8080/",
          "height": 330
        }
      },
      "cell_type": "code",
      "source": [
        "newdf1=newdf.copy()\n",
        "newdf1.head()"
      ],
      "execution_count": 140,
      "outputs": [
        {
          "output_type": "execute_result",
          "data": {
            "text/html": [
              "<div>\n",
              "<style scoped>\n",
              "    .dataframe tbody tr th:only-of-type {\n",
              "        vertical-align: middle;\n",
              "    }\n",
              "\n",
              "    .dataframe tbody tr th {\n",
              "        vertical-align: top;\n",
              "    }\n",
              "\n",
              "    .dataframe thead th {\n",
              "        text-align: right;\n",
              "    }\n",
              "</style>\n",
              "<table border=\"1\" class=\"dataframe\">\n",
              "  <thead>\n",
              "    <tr style=\"text-align: right;\">\n",
              "      <th></th>\n",
              "      <th>loan_amnt</th>\n",
              "      <th>funded_amnt</th>\n",
              "      <th>funded_amnt_inv</th>\n",
              "      <th>term</th>\n",
              "      <th>int_rate</th>\n",
              "      <th>installment</th>\n",
              "      <th>grade</th>\n",
              "      <th>sub_grade</th>\n",
              "      <th>emp_length</th>\n",
              "      <th>home_ownership</th>\n",
              "      <th>...</th>\n",
              "      <th>recoveries</th>\n",
              "      <th>collection_recovery_fee</th>\n",
              "      <th>last_pymnt_amnt</th>\n",
              "      <th>collections_12_mths_ex_med</th>\n",
              "      <th>policy_code</th>\n",
              "      <th>application_type</th>\n",
              "      <th>acc_now_delinq</th>\n",
              "      <th>tot_coll_amt</th>\n",
              "      <th>tot_cur_bal</th>\n",
              "      <th>total_rev_hi_lim</th>\n",
              "    </tr>\n",
              "  </thead>\n",
              "  <tbody>\n",
              "    <tr>\n",
              "      <th>0</th>\n",
              "      <td>5000.0</td>\n",
              "      <td>5000.0</td>\n",
              "      <td>4975.0</td>\n",
              "      <td>36 months</td>\n",
              "      <td>10.65</td>\n",
              "      <td>162.87</td>\n",
              "      <td>B</td>\n",
              "      <td>B2</td>\n",
              "      <td>10+ years</td>\n",
              "      <td>RENT</td>\n",
              "      <td>...</td>\n",
              "      <td>0.00</td>\n",
              "      <td>0.00</td>\n",
              "      <td>171.62</td>\n",
              "      <td>0.0</td>\n",
              "      <td>1.0</td>\n",
              "      <td>INDIVIDUAL</td>\n",
              "      <td>0.0</td>\n",
              "      <td>225.70261</td>\n",
              "      <td>139458.189336</td>\n",
              "      <td>32068.620045</td>\n",
              "    </tr>\n",
              "    <tr>\n",
              "      <th>1</th>\n",
              "      <td>2500.0</td>\n",
              "      <td>2500.0</td>\n",
              "      <td>2500.0</td>\n",
              "      <td>60 months</td>\n",
              "      <td>15.27</td>\n",
              "      <td>59.83</td>\n",
              "      <td>C</td>\n",
              "      <td>C4</td>\n",
              "      <td>&lt; 1 year</td>\n",
              "      <td>RENT</td>\n",
              "      <td>...</td>\n",
              "      <td>117.08</td>\n",
              "      <td>1.11</td>\n",
              "      <td>119.66</td>\n",
              "      <td>0.0</td>\n",
              "      <td>1.0</td>\n",
              "      <td>INDIVIDUAL</td>\n",
              "      <td>0.0</td>\n",
              "      <td>225.70261</td>\n",
              "      <td>139458.189336</td>\n",
              "      <td>32068.620045</td>\n",
              "    </tr>\n",
              "    <tr>\n",
              "      <th>2</th>\n",
              "      <td>2400.0</td>\n",
              "      <td>2400.0</td>\n",
              "      <td>2400.0</td>\n",
              "      <td>36 months</td>\n",
              "      <td>15.96</td>\n",
              "      <td>84.33</td>\n",
              "      <td>C</td>\n",
              "      <td>C5</td>\n",
              "      <td>10+ years</td>\n",
              "      <td>RENT</td>\n",
              "      <td>...</td>\n",
              "      <td>0.00</td>\n",
              "      <td>0.00</td>\n",
              "      <td>649.91</td>\n",
              "      <td>0.0</td>\n",
              "      <td>1.0</td>\n",
              "      <td>INDIVIDUAL</td>\n",
              "      <td>0.0</td>\n",
              "      <td>225.70261</td>\n",
              "      <td>139458.189336</td>\n",
              "      <td>32068.620045</td>\n",
              "    </tr>\n",
              "    <tr>\n",
              "      <th>3</th>\n",
              "      <td>10000.0</td>\n",
              "      <td>10000.0</td>\n",
              "      <td>10000.0</td>\n",
              "      <td>36 months</td>\n",
              "      <td>13.49</td>\n",
              "      <td>339.31</td>\n",
              "      <td>C</td>\n",
              "      <td>C1</td>\n",
              "      <td>10+ years</td>\n",
              "      <td>RENT</td>\n",
              "      <td>...</td>\n",
              "      <td>0.00</td>\n",
              "      <td>0.00</td>\n",
              "      <td>357.48</td>\n",
              "      <td>0.0</td>\n",
              "      <td>1.0</td>\n",
              "      <td>INDIVIDUAL</td>\n",
              "      <td>0.0</td>\n",
              "      <td>225.70261</td>\n",
              "      <td>139458.189336</td>\n",
              "      <td>32068.620045</td>\n",
              "    </tr>\n",
              "    <tr>\n",
              "      <th>4</th>\n",
              "      <td>3000.0</td>\n",
              "      <td>3000.0</td>\n",
              "      <td>3000.0</td>\n",
              "      <td>60 months</td>\n",
              "      <td>12.69</td>\n",
              "      <td>67.79</td>\n",
              "      <td>B</td>\n",
              "      <td>B5</td>\n",
              "      <td>1 year</td>\n",
              "      <td>RENT</td>\n",
              "      <td>...</td>\n",
              "      <td>0.00</td>\n",
              "      <td>0.00</td>\n",
              "      <td>67.79</td>\n",
              "      <td>0.0</td>\n",
              "      <td>1.0</td>\n",
              "      <td>INDIVIDUAL</td>\n",
              "      <td>0.0</td>\n",
              "      <td>225.70261</td>\n",
              "      <td>139458.189336</td>\n",
              "      <td>32068.620045</td>\n",
              "    </tr>\n",
              "  </tbody>\n",
              "</table>\n",
              "<p>5 rows × 42 columns</p>\n",
              "</div>"
            ],
            "text/plain": [
              "   loan_amnt  funded_amnt  funded_amnt_inv        term  int_rate  installment  \\\n",
              "0     5000.0       5000.0           4975.0   36 months     10.65       162.87   \n",
              "1     2500.0       2500.0           2500.0   60 months     15.27        59.83   \n",
              "2     2400.0       2400.0           2400.0   36 months     15.96        84.33   \n",
              "3    10000.0      10000.0          10000.0   36 months     13.49       339.31   \n",
              "4     3000.0       3000.0           3000.0   60 months     12.69        67.79   \n",
              "\n",
              "  grade sub_grade emp_length home_ownership        ...         recoveries  \\\n",
              "0     B        B2  10+ years           RENT        ...               0.00   \n",
              "1     C        C4   < 1 year           RENT        ...             117.08   \n",
              "2     C        C5  10+ years           RENT        ...               0.00   \n",
              "3     C        C1  10+ years           RENT        ...               0.00   \n",
              "4     B        B5     1 year           RENT        ...               0.00   \n",
              "\n",
              "  collection_recovery_fee last_pymnt_amnt collections_12_mths_ex_med  \\\n",
              "0                    0.00          171.62                        0.0   \n",
              "1                    1.11          119.66                        0.0   \n",
              "2                    0.00          649.91                        0.0   \n",
              "3                    0.00          357.48                        0.0   \n",
              "4                    0.00           67.79                        0.0   \n",
              "\n",
              "  policy_code application_type  acc_now_delinq  tot_coll_amt    tot_cur_bal  \\\n",
              "0         1.0       INDIVIDUAL             0.0     225.70261  139458.189336   \n",
              "1         1.0       INDIVIDUAL             0.0     225.70261  139458.189336   \n",
              "2         1.0       INDIVIDUAL             0.0     225.70261  139458.189336   \n",
              "3         1.0       INDIVIDUAL             0.0     225.70261  139458.189336   \n",
              "4         1.0       INDIVIDUAL             0.0     225.70261  139458.189336   \n",
              "\n",
              "   total_rev_hi_lim  \n",
              "0      32068.620045  \n",
              "1      32068.620045  \n",
              "2      32068.620045  \n",
              "3      32068.620045  \n",
              "4      32068.620045  \n",
              "\n",
              "[5 rows x 42 columns]"
            ]
          },
          "metadata": {
            "tags": []
          },
          "execution_count": 140
        }
      ]
    },
    {
      "metadata": {
        "id": "QmcjOScrFVJ9",
        "colab_type": "code",
        "colab": {}
      },
      "cell_type": "code",
      "source": [
        "newdf=newdf[newdf.loan_status!=\"Current\"]\n"
      ],
      "execution_count": 0,
      "outputs": []
    },
    {
      "metadata": {
        "id": "16jm5n6AFVKE",
        "colab_type": "code",
        "colab": {}
      },
      "cell_type": "code",
      "source": [
        "newdf=newdf[newdf.loan_status!=\"Late (31-120 days)\"]"
      ],
      "execution_count": 0,
      "outputs": []
    },
    {
      "metadata": {
        "id": "NwIbcp6KFVKJ",
        "colab_type": "code",
        "colab": {}
      },
      "cell_type": "code",
      "source": [
        "newdf=newdf[newdf.loan_status!=\"Issued\"]"
      ],
      "execution_count": 0,
      "outputs": []
    },
    {
      "metadata": {
        "id": "QQZJZGpEFVKN",
        "colab_type": "code",
        "colab": {}
      },
      "cell_type": "code",
      "source": [
        "newdf=newdf[newdf.loan_status!=\"In Grace Period\"]"
      ],
      "execution_count": 0,
      "outputs": []
    },
    {
      "metadata": {
        "id": "_42QCvMmFVKS",
        "colab_type": "code",
        "colab": {}
      },
      "cell_type": "code",
      "source": [
        "newdf=newdf[newdf.loan_status!=\"Late (16-30 days)\"]"
      ],
      "execution_count": 0,
      "outputs": []
    },
    {
      "metadata": {
        "id": "rtx_UstXRKAw",
        "colab_type": "code",
        "colab": {
          "base_uri": "https://localhost:8080/",
          "height": 70
        },
        "outputId": "5e7cd2b7-b0e2-44a4-a086-f8ed684aef8a"
      },
      "cell_type": "code",
      "source": [
        "newdf.loc[newdf.loan_status == 'Charged Off', 'loan_outcome'] = 1 \n",
        "newdf.loc[newdf.loan_status == 'Default', 'loan_outcome'] = 1\n",
        "newdf.loc[newdf.loan_status == 'Fully Paid', 'loan_outcome'] = 0\n",
        "newdf.loc[newdf.loan_status == 'Does not meet the credit policy. Status:Fully Paid','loan_outcome'] = 0\n",
        "newdf.loc[newdf.loan_status == 'Does not meet the credit policy. Status:Charged Off','loan_outcome'] = 1\n",
        "newdf[\"loan_outcome\"].value_counts()"
      ],
      "execution_count": 148,
      "outputs": [
        {
          "output_type": "execute_result",
          "data": {
            "text/plain": [
              "0.0    209711\n",
              "1.0     47228\n",
              "Name: loan_outcome, dtype: int64"
            ]
          },
          "metadata": {
            "tags": []
          },
          "execution_count": 148
        }
      ]
    },
    {
      "metadata": {
        "id": "IYkgPeQdFVKw",
        "colab_type": "code",
        "outputId": "01de3ee8-cb65-4f36-c04a-61908bacfa2d",
        "colab": {
          "base_uri": "https://localhost:8080/",
          "height": 141
        }
      },
      "cell_type": "code",
      "source": [
        "newdf[\"home_ownership\"].value_counts()"
      ],
      "execution_count": 149,
      "outputs": [
        {
          "output_type": "execute_result",
          "data": {
            "text/plain": [
              "MORTGAGE    126598\n",
              "RENT        107831\n",
              "OWN          22282\n",
              "OTHER          179\n",
              "NONE            48\n",
              "ANY              1\n",
              "Name: home_ownership, dtype: int64"
            ]
          },
          "metadata": {
            "tags": []
          },
          "execution_count": 149
        }
      ]
    },
    {
      "metadata": {
        "id": "4b2_XOpsFVK0",
        "colab_type": "code",
        "outputId": "9312fa80-ac96-4233-9028-56b81ff0a90a",
        "colab": {
          "base_uri": "https://localhost:8080/",
          "height": 781
        }
      },
      "cell_type": "code",
      "source": [
        "newdf.isnull().sum()"
      ],
      "execution_count": 200,
      "outputs": [
        {
          "output_type": "execute_result",
          "data": {
            "text/plain": [
              "loan_amnt                     0\n",
              "funded_amnt                   0\n",
              "funded_amnt_inv               0\n",
              "term                          0\n",
              "int_rate                      0\n",
              "installment                   0\n",
              "grade                         0\n",
              "sub_grade                     0\n",
              "emp_length                    0\n",
              "home_ownership                0\n",
              "annual_inc                    0\n",
              "verification_status           0\n",
              "pymnt_plan                    0\n",
              "purpose                       0\n",
              "addr_state                    0\n",
              "dti                           0\n",
              "delinq_2yrs                   0\n",
              "inq_last_6mths                0\n",
              "open_acc                      0\n",
              "pub_rec                       0\n",
              "revol_bal                     0\n",
              "revol_util                    0\n",
              "total_acc                     0\n",
              "initial_list_status           0\n",
              "out_prncp                     0\n",
              "out_prncp_inv                 0\n",
              "total_pymnt                   0\n",
              "total_pymnt_inv               0\n",
              "total_rec_prncp               0\n",
              "total_rec_int                 0\n",
              "total_rec_late_fee            0\n",
              "recoveries                    0\n",
              "collection_recovery_fee       0\n",
              "last_pymnt_amnt               0\n",
              "collections_12_mths_ex_med    0\n",
              "policy_code                   0\n",
              "application_type              0\n",
              "acc_now_delinq                0\n",
              "tot_coll_amt                  0\n",
              "tot_cur_bal                   0\n",
              "total_rev_hi_lim              0\n",
              "loan_outcome                  0\n",
              "dtype: int64"
            ]
          },
          "metadata": {
            "tags": []
          },
          "execution_count": 200
        }
      ]
    },
    {
      "metadata": {
        "id": "BJn8CY9XFVLH",
        "colab_type": "code",
        "colab": {
          "base_uri": "https://localhost:8080/",
          "height": 34
        },
        "outputId": "413e5ad7-c840-4d03-c664-ac81b0e6ae8e"
      },
      "cell_type": "code",
      "source": [
        "numerical_columns=newdf.select_dtypes(include=np.number)\n",
        "numerical_columns.head()\n",
        "from sklearn.preprocessing import MinMaxScaler\n",
        "scaler = MinMaxScaler()\n",
        "col_names=list(numerical_columns)\n",
        "numerical_columns=scaler.fit_transform(numerical_columns)\n",
        "numerical_columns\n",
        "numerical_columns=pd.DataFrame(numerical_columns,columns=col_names)\n",
        "numerical_columns.head()\n",
        "type(numerical_columns)"
      ],
      "execution_count": 231,
      "outputs": [
        {
          "output_type": "execute_result",
          "data": {
            "text/plain": [
              "pandas.core.frame.DataFrame"
            ]
          },
          "metadata": {
            "tags": []
          },
          "execution_count": 231
        }
      ]
    },
    {
      "metadata": {
        "id": "4fBW8JJIFVLL",
        "colab_type": "code",
        "outputId": "f0667ff0-b397-4c26-db74-172d462f2284",
        "colab": {
          "base_uri": "https://localhost:8080/",
          "height": 34
        }
      },
      "cell_type": "code",
      "source": [
        "categorical_columns1=newdf.select_dtypes(exclude=np.number)\n",
        "categorical_columns1.head()\n",
        "categorical_columns1.shape\n"
      ],
      "execution_count": 203,
      "outputs": [
        {
          "output_type": "execute_result",
          "data": {
            "text/plain": [
              "(256939, 11)"
            ]
          },
          "metadata": {
            "tags": []
          },
          "execution_count": 203
        }
      ]
    },
    {
      "metadata": {
        "id": "l8mZ1_OvSRmb",
        "colab_type": "code",
        "colab": {
          "base_uri": "https://localhost:8080/",
          "height": 34
        },
        "outputId": "80094762-d54d-4c3d-c9de-df496180bc97"
      },
      "cell_type": "code",
      "source": [
        "X_cat=pd.get_dummies(categorical_columns1)\n",
        "X_cat.head()\n",
        "type(X_cat)\n"
      ],
      "execution_count": 235,
      "outputs": [
        {
          "output_type": "execute_result",
          "data": {
            "text/plain": [
              "pandas.core.frame.DataFrame"
            ]
          },
          "metadata": {
            "tags": []
          },
          "execution_count": 235
        }
      ]
    },
    {
      "metadata": {
        "id": "HbCGeK2GgySO",
        "colab_type": "code",
        "colab": {}
      },
      "cell_type": "code",
      "source": [
        "X_cat.reset_index(drop=True, inplace=True)\n"
      ],
      "execution_count": 0,
      "outputs": []
    },
    {
      "metadata": {
        "id": "XUUgY0sEifjD",
        "colab_type": "code",
        "colab": {}
      },
      "cell_type": "code",
      "source": [
        "numerical_columns.reset_index(drop=True, inplace=True)"
      ],
      "execution_count": 0,
      "outputs": []
    },
    {
      "metadata": {
        "scrolled": true,
        "id": "NdBMRJs2FVLP",
        "colab_type": "code",
        "outputId": "6f70662c-3232-4844-c209-4ad4d5411771",
        "colab": {
          "base_uri": "https://localhost:8080/",
          "height": 34
        }
      },
      "cell_type": "code",
      "source": [
        "X1=pd.concat([numerical_columns,X_cat],1)\n",
        "X1.shape\n"
      ],
      "execution_count": 238,
      "outputs": [
        {
          "output_type": "execute_result",
          "data": {
            "text/plain": [
              "(256939, 167)"
            ]
          },
          "metadata": {
            "tags": []
          },
          "execution_count": 238
        }
      ]
    },
    {
      "metadata": {
        "id": "yaEVEugkdlMN",
        "colab_type": "code",
        "colab": {
          "base_uri": "https://localhost:8080/",
          "height": 246
        },
        "outputId": "3c9a293f-55f6-4b65-dad4-f2914603cb34"
      },
      "cell_type": "code",
      "source": [
        "X=X1.drop([\"loan_outcome\"],1)\n",
        "y=X1[\"loan_outcome\"]\n",
        "X.dtypes\n",
        "X.head()"
      ],
      "execution_count": 239,
      "outputs": [
        {
          "output_type": "execute_result",
          "data": {
            "text/html": [
              "<div>\n",
              "<style scoped>\n",
              "    .dataframe tbody tr th:only-of-type {\n",
              "        vertical-align: middle;\n",
              "    }\n",
              "\n",
              "    .dataframe tbody tr th {\n",
              "        vertical-align: top;\n",
              "    }\n",
              "\n",
              "    .dataframe thead th {\n",
              "        text-align: right;\n",
              "    }\n",
              "</style>\n",
              "<table border=\"1\" class=\"dataframe\">\n",
              "  <thead>\n",
              "    <tr style=\"text-align: right;\">\n",
              "      <th></th>\n",
              "      <th>loan_amnt</th>\n",
              "      <th>funded_amnt</th>\n",
              "      <th>funded_amnt_inv</th>\n",
              "      <th>int_rate</th>\n",
              "      <th>installment</th>\n",
              "      <th>annual_inc</th>\n",
              "      <th>dti</th>\n",
              "      <th>delinq_2yrs</th>\n",
              "      <th>inq_last_6mths</th>\n",
              "      <th>open_acc</th>\n",
              "      <th>...</th>\n",
              "      <th>addr_state_VA</th>\n",
              "      <th>addr_state_VT</th>\n",
              "      <th>addr_state_WA</th>\n",
              "      <th>addr_state_WI</th>\n",
              "      <th>addr_state_WV</th>\n",
              "      <th>addr_state_WY</th>\n",
              "      <th>initial_list_status_f</th>\n",
              "      <th>initial_list_status_w</th>\n",
              "      <th>application_type_INDIVIDUAL</th>\n",
              "      <th>application_type_JOINT</th>\n",
              "    </tr>\n",
              "  </thead>\n",
              "  <tbody>\n",
              "    <tr>\n",
              "      <th>0</th>\n",
              "      <td>0.130435</td>\n",
              "      <td>0.130435</td>\n",
              "      <td>0.142143</td>\n",
              "      <td>0.225180</td>\n",
              "      <td>0.104479</td>\n",
              "      <td>0.002539</td>\n",
              "      <td>0.483899</td>\n",
              "      <td>0.0</td>\n",
              "      <td>0.030303</td>\n",
              "      <td>0.039474</td>\n",
              "      <td>...</td>\n",
              "      <td>0</td>\n",
              "      <td>0</td>\n",
              "      <td>0</td>\n",
              "      <td>0</td>\n",
              "      <td>0</td>\n",
              "      <td>0</td>\n",
              "      <td>1</td>\n",
              "      <td>0</td>\n",
              "      <td>1</td>\n",
              "      <td>0</td>\n",
              "    </tr>\n",
              "    <tr>\n",
              "      <th>1</th>\n",
              "      <td>0.057971</td>\n",
              "      <td>0.057971</td>\n",
              "      <td>0.071429</td>\n",
              "      <td>0.420363</td>\n",
              "      <td>0.031344</td>\n",
              "      <td>0.003229</td>\n",
              "      <td>0.017501</td>\n",
              "      <td>0.0</td>\n",
              "      <td>0.151515</td>\n",
              "      <td>0.039474</td>\n",
              "      <td>...</td>\n",
              "      <td>0</td>\n",
              "      <td>0</td>\n",
              "      <td>0</td>\n",
              "      <td>0</td>\n",
              "      <td>0</td>\n",
              "      <td>0</td>\n",
              "      <td>1</td>\n",
              "      <td>0</td>\n",
              "      <td>1</td>\n",
              "      <td>0</td>\n",
              "    </tr>\n",
              "    <tr>\n",
              "      <th>2</th>\n",
              "      <td>0.055072</td>\n",
              "      <td>0.055072</td>\n",
              "      <td>0.068571</td>\n",
              "      <td>0.449514</td>\n",
              "      <td>0.048733</td>\n",
              "      <td>0.001190</td>\n",
              "      <td>0.152608</td>\n",
              "      <td>0.0</td>\n",
              "      <td>0.060606</td>\n",
              "      <td>0.026316</td>\n",
              "      <td>...</td>\n",
              "      <td>0</td>\n",
              "      <td>0</td>\n",
              "      <td>0</td>\n",
              "      <td>0</td>\n",
              "      <td>0</td>\n",
              "      <td>0</td>\n",
              "      <td>1</td>\n",
              "      <td>0</td>\n",
              "      <td>1</td>\n",
              "      <td>0</td>\n",
              "    </tr>\n",
              "    <tr>\n",
              "      <th>3</th>\n",
              "      <td>0.275362</td>\n",
              "      <td>0.275362</td>\n",
              "      <td>0.285714</td>\n",
              "      <td>0.345163</td>\n",
              "      <td>0.229711</td>\n",
              "      <td>0.005434</td>\n",
              "      <td>0.350018</td>\n",
              "      <td>0.0</td>\n",
              "      <td>0.030303</td>\n",
              "      <td>0.131579</td>\n",
              "      <td>...</td>\n",
              "      <td>0</td>\n",
              "      <td>0</td>\n",
              "      <td>0</td>\n",
              "      <td>0</td>\n",
              "      <td>0</td>\n",
              "      <td>0</td>\n",
              "      <td>1</td>\n",
              "      <td>0</td>\n",
              "      <td>1</td>\n",
              "      <td>0</td>\n",
              "    </tr>\n",
              "    <tr>\n",
              "      <th>4</th>\n",
              "      <td>0.130435</td>\n",
              "      <td>0.130435</td>\n",
              "      <td>0.142857</td>\n",
              "      <td>0.108999</td>\n",
              "      <td>0.099929</td>\n",
              "      <td>0.003918</td>\n",
              "      <td>0.196010</td>\n",
              "      <td>0.0</td>\n",
              "      <td>0.090909</td>\n",
              "      <td>0.118421</td>\n",
              "      <td>...</td>\n",
              "      <td>0</td>\n",
              "      <td>0</td>\n",
              "      <td>0</td>\n",
              "      <td>0</td>\n",
              "      <td>0</td>\n",
              "      <td>0</td>\n",
              "      <td>1</td>\n",
              "      <td>0</td>\n",
              "      <td>1</td>\n",
              "      <td>0</td>\n",
              "    </tr>\n",
              "  </tbody>\n",
              "</table>\n",
              "<p>5 rows × 166 columns</p>\n",
              "</div>"
            ],
            "text/plain": [
              "   loan_amnt  funded_amnt  funded_amnt_inv  int_rate  installment  annual_inc  \\\n",
              "0   0.130435     0.130435         0.142143  0.225180     0.104479    0.002539   \n",
              "1   0.057971     0.057971         0.071429  0.420363     0.031344    0.003229   \n",
              "2   0.055072     0.055072         0.068571  0.449514     0.048733    0.001190   \n",
              "3   0.275362     0.275362         0.285714  0.345163     0.229711    0.005434   \n",
              "4   0.130435     0.130435         0.142857  0.108999     0.099929    0.003918   \n",
              "\n",
              "        dti  delinq_2yrs  inq_last_6mths  open_acc           ...            \\\n",
              "0  0.483899          0.0        0.030303  0.039474           ...             \n",
              "1  0.017501          0.0        0.151515  0.039474           ...             \n",
              "2  0.152608          0.0        0.060606  0.026316           ...             \n",
              "3  0.350018          0.0        0.030303  0.131579           ...             \n",
              "4  0.196010          0.0        0.090909  0.118421           ...             \n",
              "\n",
              "   addr_state_VA  addr_state_VT  addr_state_WA  addr_state_WI  addr_state_WV  \\\n",
              "0              0              0              0              0              0   \n",
              "1              0              0              0              0              0   \n",
              "2              0              0              0              0              0   \n",
              "3              0              0              0              0              0   \n",
              "4              0              0              0              0              0   \n",
              "\n",
              "   addr_state_WY  initial_list_status_f  initial_list_status_w  \\\n",
              "0              0                      1                      0   \n",
              "1              0                      1                      0   \n",
              "2              0                      1                      0   \n",
              "3              0                      1                      0   \n",
              "4              0                      1                      0   \n",
              "\n",
              "   application_type_INDIVIDUAL  application_type_JOINT  \n",
              "0                            1                       0  \n",
              "1                            1                       0  \n",
              "2                            1                       0  \n",
              "3                            1                       0  \n",
              "4                            1                       0  \n",
              "\n",
              "[5 rows x 166 columns]"
            ]
          },
          "metadata": {
            "tags": []
          },
          "execution_count": 239
        }
      ]
    },
    {
      "metadata": {
        "id": "XOf6fblaFVLT",
        "colab_type": "code",
        "colab": {}
      },
      "cell_type": "code",
      "source": [
        "\n",
        "from sklearn.model_selection import train_test_split as tts\n",
        "X_train, X_test, y_train, y_test= tts(X,y,test_size=0.4,random_state=0)\n"
      ],
      "execution_count": 0,
      "outputs": []
    },
    {
      "metadata": {
        "id": "2Pz-MA7OFVLV",
        "colab_type": "code",
        "colab": {}
      },
      "cell_type": "code",
      "source": [
        "from sklearn.linear_model import LogisticRegression\n",
        "logreg=LogisticRegression()"
      ],
      "execution_count": 0,
      "outputs": []
    },
    {
      "metadata": {
        "id": "KmYrvzLNFVLY",
        "colab_type": "code",
        "outputId": "1256004d-6796-4de6-9ce9-e717614ea757",
        "colab": {
          "base_uri": "https://localhost:8080/",
          "height": 143
        }
      },
      "cell_type": "code",
      "source": [
        "logreg.fit(X_train,y_train)"
      ],
      "execution_count": 255,
      "outputs": [
        {
          "output_type": "stream",
          "text": [
            "/usr/local/lib/python3.6/dist-packages/sklearn/linear_model/logistic.py:433: FutureWarning: Default solver will be changed to 'lbfgs' in 0.22. Specify a solver to silence this warning.\n",
            "  FutureWarning)\n"
          ],
          "name": "stderr"
        },
        {
          "output_type": "execute_result",
          "data": {
            "text/plain": [
              "LogisticRegression(C=1.0, class_weight=None, dual=False, fit_intercept=True,\n",
              "          intercept_scaling=1, max_iter=100, multi_class='warn',\n",
              "          n_jobs=None, penalty='l2', random_state=None, solver='warn',\n",
              "          tol=0.0001, verbose=0, warm_start=False)"
            ]
          },
          "metadata": {
            "tags": []
          },
          "execution_count": 255
        }
      ]
    },
    {
      "metadata": {
        "id": "9trB6dvoFVLs",
        "colab_type": "code",
        "colab": {}
      },
      "cell_type": "code",
      "source": [
        "y_pred=logreg.predict(X_test)"
      ],
      "execution_count": 0,
      "outputs": []
    },
    {
      "metadata": {
        "id": "VN07l64axicT",
        "colab_type": "code",
        "colab": {
          "base_uri": "https://localhost:8080/",
          "height": 52
        },
        "outputId": "dd736c67-3b6c-4e10-f62d-f8fff397ce99"
      },
      "cell_type": "code",
      "source": [
        "from sklearn import metrics\n",
        "cnf_matrix = metrics.confusion_matrix(y_test, y_pred)\n",
        "cnf_matrix"
      ],
      "execution_count": 257,
      "outputs": [
        {
          "output_type": "execute_result",
          "data": {
            "text/plain": [
              "array([[83685,    57],\n",
              "       [  771, 18263]])"
            ]
          },
          "metadata": {
            "tags": []
          },
          "execution_count": 257
        }
      ]
    },
    {
      "metadata": {
        "id": "C85ZPPJyxo12",
        "colab_type": "code",
        "colab": {
          "base_uri": "https://localhost:8080/",
          "height": 34
        },
        "outputId": "385a111c-fedb-4ff8-d5e6-a35b2973b70a"
      },
      "cell_type": "code",
      "source": [
        "print(\"Accuracy:\",metrics.accuracy_score(y_test, y_pred))"
      ],
      "execution_count": 258,
      "outputs": [
        {
          "output_type": "stream",
          "text": [
            "Accuracy: 0.9919436444306063\n"
          ],
          "name": "stdout"
        }
      ]
    },
    {
      "metadata": {
        "id": "qkWmhDlEx26P",
        "colab_type": "code",
        "colab": {
          "base_uri": "https://localhost:8080/",
          "height": 34
        },
        "outputId": "13d7e6f8-b623-47f4-d60a-235ace10a38d"
      },
      "cell_type": "code",
      "source": [
        "print('Accuracy of logistic regression classifier on test set: {:.2f}'.format(logreg.score(X_test, y_test)))"
      ],
      "execution_count": 246,
      "outputs": [
        {
          "output_type": "stream",
          "text": [
            "Accuracy of logistic regression classifier on test set: 0.99\n"
          ],
          "name": "stdout"
        }
      ]
    },
    {
      "metadata": {
        "id": "ZWTm-F_l0iMA",
        "colab_type": "code",
        "colab": {}
      },
      "cell_type": "code",
      "source": [
        "from sklearn.feature_selection import RFE"
      ],
      "execution_count": 0,
      "outputs": []
    },
    {
      "metadata": {
        "id": "UADLiFEfkz70",
        "colab_type": "code",
        "colab": {}
      },
      "cell_type": "code",
      "source": [
        "from sklearn.model_selection import cross_val_score,GridSearchCV"
      ],
      "execution_count": 0,
      "outputs": []
    },
    {
      "metadata": {
        "id": "A2zQbW_Lk0Lj",
        "colab_type": "code",
        "colab": {
          "base_uri": "https://localhost:8080/",
          "height": 196
        },
        "outputId": "e4fdf785-a9a1-4776-86cd-c5ee6c3a8647"
      },
      "cell_type": "code",
      "source": [
        "cross_val_score(logreg,X,y,cv=4,scoring=\"accuracy\").mean()"
      ],
      "execution_count": 263,
      "outputs": [
        {
          "output_type": "stream",
          "text": [
            "/usr/local/lib/python3.6/dist-packages/sklearn/linear_model/logistic.py:433: FutureWarning: Default solver will be changed to 'lbfgs' in 0.22. Specify a solver to silence this warning.\n",
            "  FutureWarning)\n",
            "/usr/local/lib/python3.6/dist-packages/sklearn/linear_model/logistic.py:433: FutureWarning: Default solver will be changed to 'lbfgs' in 0.22. Specify a solver to silence this warning.\n",
            "  FutureWarning)\n",
            "/usr/local/lib/python3.6/dist-packages/sklearn/linear_model/logistic.py:433: FutureWarning: Default solver will be changed to 'lbfgs' in 0.22. Specify a solver to silence this warning.\n",
            "  FutureWarning)\n",
            "/usr/local/lib/python3.6/dist-packages/sklearn/linear_model/logistic.py:433: FutureWarning: Default solver will be changed to 'lbfgs' in 0.22. Specify a solver to silence this warning.\n",
            "  FutureWarning)\n"
          ],
          "name": "stderr"
        },
        {
          "output_type": "execute_result",
          "data": {
            "text/plain": [
              "0.9910290161415763"
            ]
          },
          "metadata": {
            "tags": []
          },
          "execution_count": 263
        }
      ]
    },
    {
      "metadata": {
        "id": "o67kUZlul29s",
        "colab_type": "code",
        "colab": {}
      },
      "cell_type": "code",
      "source": [
        "grid={\"C\":np.logspace(-3,3,7),\"penalty\":[\"l1\",\"l2\"]}"
      ],
      "execution_count": 0,
      "outputs": []
    },
    {
      "metadata": {
        "id": "BwC17B6T8X0Z",
        "colab_type": "code",
        "colab": {
          "base_uri": "https://localhost:8080/",
          "height": 176
        },
        "outputId": "2ff89e89-5e35-429d-d5b3-944f8b84d193"
      },
      "cell_type": "code",
      "source": [
        "logreg_gridcv.score\n"
      ],
      "execution_count": 272,
      "outputs": [
        {
          "output_type": "execute_result",
          "data": {
            "text/plain": [
              "<bound method BaseSearchCV.score of GridSearchCV(cv=10, error_score='raise-deprecating',\n",
              "       estimator=LogisticRegression(C=1.0, class_weight=None, dual=False, fit_intercept=True,\n",
              "          intercept_scaling=1, max_iter=100, multi_class='warn',\n",
              "          n_jobs=None, penalty='l2', random_state=None, solver='warn',\n",
              "          tol=0.0001, verbose=0, warm_start=False),\n",
              "       fit_params=None, iid='warn', n_jobs=None,\n",
              "       param_grid={'C': array([1.e-03, 1.e-02, 1.e-01, 1.e+00, 1.e+01, 1.e+02, 1.e+03]), 'penalty': ['l1', 'l2']},\n",
              "       pre_dispatch='2*n_jobs', refit=True, return_train_score='warn',\n",
              "       scoring=None, verbose=0)>"
            ]
          },
          "metadata": {
            "tags": []
          },
          "execution_count": 272
        }
      ]
    },
    {
      "metadata": {
        "id": "TcBRUli103x3",
        "colab_type": "code",
        "colab": {}
      },
      "cell_type": "code",
      "source": [
        "rfe = RFE(logreg, 5)"
      ],
      "execution_count": 0,
      "outputs": []
    },
    {
      "metadata": {
        "id": "DKQuP3Bv8Wqn",
        "colab_type": "code",
        "colab": {}
      },
      "cell_type": "code",
      "source": [
        ""
      ],
      "execution_count": 0,
      "outputs": []
    },
    {
      "metadata": {
        "id": "kxmFEwEd1Hzs",
        "colab_type": "code",
        "colab": {
          "base_uri": "https://localhost:8080/",
          "height": 105
        },
        "outputId": "5db8c95b-171a-41b2-9e56-7ebf1bf333fc"
      },
      "cell_type": "code",
      "source": [
        "rfe"
      ],
      "execution_count": 61,
      "outputs": [
        {
          "output_type": "execute_result",
          "data": {
            "text/plain": [
              "RFE(estimator=LogisticRegression(C=1.0, class_weight=None, dual=False, fit_intercept=True,\n",
              "          intercept_scaling=1, max_iter=100, multi_class='warn',\n",
              "          n_jobs=None, penalty='l2', random_state=None, solver='warn',\n",
              "          tol=0.0001, verbose=0, warm_start=False),\n",
              "  n_features_to_select=20, step=1, verbose=0)"
            ]
          },
          "metadata": {
            "tags": []
          },
          "execution_count": 61
        }
      ]
    },
    {
      "metadata": {
        "id": "lDXXSs1z-Rka",
        "colab_type": "code",
        "colab": {
          "base_uri": "https://localhost:8080/",
          "height": 123
        },
        "outputId": "9352ec6f-f66c-484f-c36d-36b223fb3637"
      },
      "cell_type": "code",
      "source": [
        "X1.head()\n",
        "y1.head()"
      ],
      "execution_count": 67,
      "outputs": [
        {
          "output_type": "execute_result",
          "data": {
            "text/plain": [
              "0    0.0\n",
              "1    1.0\n",
              "2    0.0\n",
              "3    0.0\n",
              "5    0.0\n",
              "Name: loan_outcome, dtype: float64"
            ]
          },
          "metadata": {
            "tags": []
          },
          "execution_count": 67
        }
      ]
    },
    {
      "metadata": {
        "id": "P3jZuqjBA7e2",
        "colab_type": "code",
        "colab": {
          "base_uri": "https://localhost:8080/",
          "height": 34
        },
        "outputId": "e399f56f-7d25-4bf7-b2ef-fe9883e85cd1"
      },
      "cell_type": "code",
      "source": [
        "X.shape"
      ],
      "execution_count": 273,
      "outputs": [
        {
          "output_type": "execute_result",
          "data": {
            "text/plain": [
              "(256939, 166)"
            ]
          },
          "metadata": {
            "tags": []
          },
          "execution_count": 273
        }
      ]
    },
    {
      "metadata": {
        "id": "qAmQ_WLGFZtV",
        "colab_type": "code",
        "colab": {}
      },
      "cell_type": "code",
      "source": [
        "from sklearn.feature_selection import SelectKBest\n",
        "from sklearn.feature_selection import chi2"
      ],
      "execution_count": 0,
      "outputs": []
    },
    {
      "metadata": {
        "id": "fnzd72U-G1kW",
        "colab_type": "code",
        "colab": {}
      },
      "cell_type": "code",
      "source": [
        "test = SelectKBest(score_func=chi2, k=4)\n",
        "fit = test.fit(X1, y1)\n",
        "\n"
      ],
      "execution_count": 0,
      "outputs": []
    },
    {
      "metadata": {
        "id": "CcHQ9Ln_G9gW",
        "colab_type": "code",
        "colab": {
          "base_uri": "https://localhost:8080/",
          "height": 443
        },
        "outputId": "868843bf-4e4d-49de-d75f-2cfea477271f"
      },
      "cell_type": "code",
      "source": [
        "1\n",
        "\n",
        "# Summarize scores\n",
        "np.set_printoptions(precision=3)\n",
        "print(fit.scores_)\n",
        "list_sc=list(fit.scores_)\n"
      ],
      "execution_count": 276,
      "outputs": [
        {
          "output_type": "stream",
          "text": [
            "[1.211e+02 1.200e+02 1.029e+02 1.419e+03 4.936e+01 5.016e+00 2.081e+02\n",
            " 5.947e+00 4.549e+01 8.371e-01 2.787e-01 2.629e-02 3.043e+01 1.075e+01\n",
            " 1.793e+03 1.793e+03 3.828e+03 3.826e+03 9.481e+03 5.011e+01 6.498e+02\n",
            " 5.398e+03 2.747e+03 8.739e+03 3.041e+00       nan 2.202e+00 8.910e-02\n",
            " 1.769e+01 6.459e+00 2.097e+05 1.316e+03 4.602e+03 4.132e+03 1.594e+03\n",
            " 9.298e+01 1.819e+03 2.921e+03 2.240e+03 7.432e+02 9.163e+02 7.876e+02\n",
            " 7.778e+02 9.364e+02 8.075e+02 5.271e+02 5.224e+02 3.909e+02 2.094e+02\n",
            " 9.793e+01 2.031e+01 4.022e-01 3.871e+01 9.090e+01 1.603e+02 2.233e+02\n",
            " 3.381e+02 3.164e+02 5.601e+02 4.829e+02 4.324e+02 6.909e+02 5.942e+02\n",
            " 6.317e+02 6.342e+02 4.339e+02 3.919e+02 5.496e+02 4.715e+02 4.573e+02\n",
            " 2.823e+02 1.751e+02 1.434e+02 5.214e+01 9.910e+01 3.977e+02 3.406e-01\n",
            " 3.327e+01 1.210e+01 3.479e+00 6.839e+00 4.510e-01 1.168e+00 3.347e+00\n",
            " 1.274e+00 2.851e+00 3.749e+00 2.252e-01 3.413e+02 9.403e-02 9.678e-01\n",
            " 2.335e+00 3.721e+02 7.791e+02 2.617e+01 5.049e+02 3.506e-06 4.504e-01\n",
            " 8.112e+01 1.838e+02 5.013e+01 1.719e+00 7.200e+01 3.191e-01 7.353e+01\n",
            " 1.053e+01 1.468e+01 7.509e+01 7.122e-01 4.191e+02 6.819e-01 2.784e+01\n",
            " 5.804e+00 1.809e+01 2.228e+00 8.208e-01 2.187e+01 5.984e+01 5.468e+00\n",
            " 3.323e+01 5.698e-02 6.146e+01 3.756e+00 5.978e-01 1.911e-01 3.171e-01\n",
            " 1.140e+01 4.105e+01 1.607e+00 3.624e+00 3.297e+00 6.987e+00 6.698e-01\n",
            " 2.928e+00 6.885e+00 2.260e-02 1.021e+01 3.286e+00 8.733e+00 4.104e+00\n",
            " 1.802e+00 1.792e-01 1.575e+01 9.453e+00 2.446e+00 3.170e+01 2.762e+01\n",
            " 5.603e+00 3.941e+00 7.810e+00 3.161e+00 1.159e-01 7.298e+00 9.266e-01\n",
            " 5.026e+01 5.654e+01 3.028e+00 9.172e-03 8.463e-01 6.390e+00 4.535e-01\n",
            " 1.167e+01 8.965e+00 2.542e+00 6.599e+00 8.765e-07 2.252e-01]\n"
          ],
          "name": "stdout"
        }
      ]
    },
    {
      "metadata": {
        "id": "b5Jlle_1HBsH",
        "colab_type": "code",
        "colab": {
          "base_uri": "https://localhost:8080/",
          "height": 265
        },
        "outputId": "4f42fd01-5365-4fb7-96fe-cb7e223eb967"
      },
      "cell_type": "code",
      "source": [
        "features = fit.transform(X1)\n",
        "features\n",
        "# Summarize selected features\n",
        "print(features[0:5,:])\n",
        "X1.columns"
      ],
      "execution_count": 277,
      "outputs": [
        {
          "output_type": "stream",
          "text": [
            "[[0.143 0.    0.005 0.   ]\n",
            " [0.013 0.003 0.003 1.   ]\n",
            " [0.069 0.    0.018 0.   ]\n",
            " [0.286 0.    0.01  0.   ]\n",
            " [0.143 0.    0.004 0.   ]]\n"
          ],
          "name": "stdout"
        },
        {
          "output_type": "execute_result",
          "data": {
            "text/plain": [
              "Index(['loan_amnt', 'funded_amnt', 'funded_amnt_inv', 'int_rate',\n",
              "       'installment', 'annual_inc', 'dti', 'delinq_2yrs', 'inq_last_6mths',\n",
              "       'open_acc',\n",
              "       ...\n",
              "       'addr_state_VA', 'addr_state_VT', 'addr_state_WA', 'addr_state_WI',\n",
              "       'addr_state_WV', 'addr_state_WY', 'initial_list_status_f',\n",
              "       'initial_list_status_w', 'application_type_INDIVIDUAL',\n",
              "       'application_type_JOINT'],\n",
              "      dtype='object', length=167)"
            ]
          },
          "metadata": {
            "tags": []
          },
          "execution_count": 277
        }
      ]
    },
    {
      "metadata": {
        "id": "pQILVZvFHjXA",
        "colab_type": "code",
        "colab": {}
      },
      "cell_type": "code",
      "source": [
        "from sklearn.ensemble import RandomForestClassifier\n",
        "clf = RandomForestClassifier(n_jobs=-1)"
      ],
      "execution_count": 0,
      "outputs": []
    },
    {
      "metadata": {
        "id": "YMQ4RDcyI-Ah",
        "colab_type": "code",
        "colab": {
          "base_uri": "https://localhost:8080/",
          "height": 34
        },
        "outputId": "d288c343-0f7c-4836-efb9-626506520100"
      },
      "cell_type": "code",
      "source": [
        "from mlxtend.feature_selection import SequentialFeatureSelector as sfs\n",
        "y_train.shape"
      ],
      "execution_count": 299,
      "outputs": [
        {
          "output_type": "execute_result",
          "data": {
            "text/plain": [
              "(154163,)"
            ]
          },
          "metadata": {
            "tags": []
          },
          "execution_count": 299
        }
      ]
    },
    {
      "metadata": {
        "id": "sewpSKbDJFQc",
        "colab_type": "code",
        "colab": {}
      },
      "cell_type": "code",
      "source": [
        "sfs1 = sfs(clf,\n",
        "           k_features=5,\n",
        "           forward=True,\n",
        "           floating=False,\n",
        "           verbose=2,\n",
        "           scoring='accuracy',\n",
        "           cv=0)"
      ],
      "execution_count": 0,
      "outputs": []
    },
    {
      "metadata": {
        "id": "BwNGQ4BqH6Q2",
        "colab_type": "code",
        "colab": {
          "base_uri": "https://localhost:8080/",
          "height": 425
        },
        "outputId": "f64352de-9f71-43ba-e909-3711ad30cd35"
      },
      "cell_type": "code",
      "source": [
        "sfs=sfs1.fit(X_train,y_train)"
      ],
      "execution_count": 282,
      "outputs": [
        {
          "output_type": "stream",
          "text": [
            "[Parallel(n_jobs=1)]: Using backend SequentialBackend with 1 concurrent workers.\n",
            "/usr/local/lib/python3.6/dist-packages/sklearn/ensemble/forest.py:246: FutureWarning: The default value of n_estimators will change from 10 in version 0.20 to 100 in 0.22.\n",
            "  \"10 in version 0.20 to 100 in 0.22.\", FutureWarning)\n",
            "[Parallel(n_jobs=1)]: Done   1 out of   1 | elapsed:    3.2s remaining:    0.0s\n",
            "[Parallel(n_jobs=1)]: Done 166 out of 166 | elapsed:  1.9min finished\n",
            "\n",
            "[2019-02-27 08:46:21] Features: 1/5 -- score: 0.9980021146448889[Parallel(n_jobs=1)]: Using backend SequentialBackend with 1 concurrent workers.\n",
            "[Parallel(n_jobs=1)]: Done   1 out of   1 | elapsed:    1.5s remaining:    0.0s\n",
            "[Parallel(n_jobs=1)]: Done 165 out of 165 | elapsed:  5.1min finished\n",
            "\n",
            "[2019-02-27 08:51:26] Features: 2/5 -- score: 0.9996367481172526[Parallel(n_jobs=1)]: Using backend SequentialBackend with 1 concurrent workers.\n",
            "[Parallel(n_jobs=1)]: Done   1 out of   1 | elapsed:    1.4s remaining:    0.0s\n",
            "[Parallel(n_jobs=1)]: Done 164 out of 164 | elapsed:  3.8min finished\n",
            "\n",
            "[2019-02-27 08:55:15] Features: 3/5 -- score: 0.999831347340153[Parallel(n_jobs=1)]: Using backend SequentialBackend with 1 concurrent workers.\n",
            "[Parallel(n_jobs=1)]: Done   1 out of   1 | elapsed:    2.2s remaining:    0.0s\n",
            "[Parallel(n_jobs=1)]: Done 163 out of 163 | elapsed:  5.5min finished\n",
            "\n",
            "[2019-02-27 09:00:46] Features: 4/5 -- score: 0.9999286469516032[Parallel(n_jobs=1)]: Using backend SequentialBackend with 1 concurrent workers.\n",
            "[Parallel(n_jobs=1)]: Done   1 out of   1 | elapsed:    1.8s remaining:    0.0s\n",
            "[Parallel(n_jobs=1)]: Done 162 out of 162 | elapsed:  5.0min finished\n",
            "\n",
            "[2019-02-27 09:05:46] Features: 5/5 -- score: 0.9999351335923665"
          ],
          "name": "stderr"
        }
      ]
    },
    {
      "metadata": {
        "id": "qAJ1TeB-NQHR",
        "colab_type": "code",
        "colab": {
          "base_uri": "https://localhost:8080/",
          "height": 34
        },
        "outputId": "c2da0175-8ef9-4428-eb05-9033e569eb3f"
      },
      "cell_type": "code",
      "source": [
        "feat_cols = list(sfs1.k_feature_idx_)\n",
        "print(feat_cols)"
      ],
      "execution_count": 283,
      "outputs": [
        {
          "output_type": "stream",
          "text": [
            "[1, 2, 18, 23, 76]\n"
          ],
          "name": "stdout"
        }
      ]
    },
    {
      "metadata": {
        "id": "QSQJsU7oPJxB",
        "colab_type": "code",
        "colab": {
          "base_uri": "https://localhost:8080/",
          "height": 70
        },
        "outputId": "344b28b1-60cd-49bd-c8b3-0a4339dcb659"
      },
      "cell_type": "code",
      "source": [
        "X1.columns[feat_cols]"
      ],
      "execution_count": 286,
      "outputs": [
        {
          "output_type": "execute_result",
          "data": {
            "text/plain": [
              "Index(['funded_amnt', 'funded_amnt_inv', 'total_rec_prncp', 'last_pymnt_amnt',\n",
              "       'emp_length_1 year'],\n",
              "      dtype='object')"
            ]
          },
          "metadata": {
            "tags": []
          },
          "execution_count": 286
        }
      ]
    },
    {
      "metadata": {
        "id": "H8vbluIgP08a",
        "colab_type": "code",
        "colab": {}
      },
      "cell_type": "code",
      "source": [
        "clf = RandomForestClassifier(random_state=42, max_depth=4)\n"
      ],
      "execution_count": 0,
      "outputs": []
    },
    {
      "metadata": {
        "id": "1XZiYexUQjwt",
        "colab_type": "code",
        "colab": {
          "base_uri": "https://localhost:8080/",
          "height": 123
        },
        "outputId": "2a6d802c-8ab5-4533-c4fd-8accb7145dee"
      },
      "cell_type": "code",
      "source": [
        "clf.fit(X_train[X1.columns[feat_cols]], y_train)\n",
        "\n"
      ],
      "execution_count": 308,
      "outputs": [
        {
          "output_type": "execute_result",
          "data": {
            "text/plain": [
              "RandomForestClassifier(bootstrap=True, class_weight=None, criterion='gini',\n",
              "            max_depth=4, max_features='auto', max_leaf_nodes=None,\n",
              "            min_impurity_decrease=0.0, min_impurity_split=None,\n",
              "            min_samples_leaf=1, min_samples_split=2,\n",
              "            min_weight_fraction_leaf=0.0, n_estimators=10, n_jobs=None,\n",
              "            oob_score=False, random_state=42, verbose=0, warm_start=False)"
            ]
          },
          "metadata": {
            "tags": []
          },
          "execution_count": 308
        }
      ]
    },
    {
      "metadata": {
        "id": "KmSeXmsKQnBs",
        "colab_type": "code",
        "colab": {}
      },
      "cell_type": "code",
      "source": [
        "y_train_pred = clf.predict(X_train[X1.columns[feat_cols]])"
      ],
      "execution_count": 0,
      "outputs": []
    },
    {
      "metadata": {
        "id": "m2miPYipQw1A",
        "colab_type": "code",
        "colab": {
          "base_uri": "https://localhost:8080/",
          "height": 52
        },
        "outputId": "89883019-1160-47a9-afda-1b21daf0a259"
      },
      "cell_type": "code",
      "source": [
        "from sklearn.metrics import accuracy_score as acc\n",
        "print('Training accuracy on selected features: %.3f' % acc(y_train, y_train_pred))\n",
        "\n",
        "y_test_pred = clf.predict(X_test[X1.columns[feat_cols]])\n",
        "print('Testing accuracy on selected features: %.3f' % acc(y_test, y_test_pred))"
      ],
      "execution_count": 302,
      "outputs": [
        {
          "output_type": "stream",
          "text": [
            "Training accuracy on selected features: 0.986\n",
            "Testing accuracy on selected features: 0.985\n"
          ],
          "name": "stdout"
        }
      ]
    },
    {
      "metadata": {
        "id": "POpRgi98PwOx",
        "colab_type": "code",
        "colab": {}
      },
      "cell_type": "code",
      "source": [
        "sfs2= sfs(clf,\n",
        "           k_features=10,\n",
        "           forward=True,\n",
        "           floating=False,\n",
        "           verbose=2,\n",
        "           scoring='accuracy',\n",
        "           cv=0)"
      ],
      "execution_count": 0,
      "outputs": []
    },
    {
      "metadata": {
        "id": "KezJR3uvQ579",
        "colab_type": "code",
        "colab": {
          "base_uri": "https://localhost:8080/",
          "height": 745
        },
        "outputId": "ac0596c9-0fd8-4c46-9163-003e81061013"
      },
      "cell_type": "code",
      "source": [
        "sfs_model2=sfs2.fit(X_train,y_train)"
      ],
      "execution_count": 303,
      "outputs": [
        {
          "output_type": "stream",
          "text": [
            "[Parallel(n_jobs=1)]: Using backend SequentialBackend with 1 concurrent workers.\n",
            "[Parallel(n_jobs=1)]: Done   1 out of   1 | elapsed:    1.1s remaining:    0.0s\n",
            "[Parallel(n_jobs=1)]: Done 166 out of 166 | elapsed:  1.2min finished\n",
            "\n",
            "[2019-02-27 09:26:06] Features: 1/10 -- score: 0.9129492809558714[Parallel(n_jobs=1)]: Using backend SequentialBackend with 1 concurrent workers.\n",
            "[Parallel(n_jobs=1)]: Done   1 out of   1 | elapsed:    0.9s remaining:    0.0s\n",
            "[Parallel(n_jobs=1)]: Done 165 out of 165 | elapsed:  1.3min finished\n",
            "\n",
            "[2019-02-27 09:27:21] Features: 2/10 -- score: 0.9426321490889513[Parallel(n_jobs=1)]: Using backend SequentialBackend with 1 concurrent workers.\n",
            "[Parallel(n_jobs=1)]: Done   1 out of   1 | elapsed:    0.8s remaining:    0.0s\n",
            "[Parallel(n_jobs=1)]: Done 164 out of 164 | elapsed:  2.3min finished\n",
            "\n",
            "[2019-02-27 09:29:39] Features: 3/10 -- score: 0.9821876844638467[Parallel(n_jobs=1)]: Using backend SequentialBackend with 1 concurrent workers.\n",
            "[Parallel(n_jobs=1)]: Done   1 out of   1 | elapsed:    1.1s remaining:    0.0s\n",
            "[Parallel(n_jobs=1)]: Done 163 out of 163 | elapsed:  2.6min finished\n",
            "\n",
            "[2019-02-27 09:32:15] Features: 4/10 -- score: 0.9874029436375784[Parallel(n_jobs=1)]: Using backend SequentialBackend with 1 concurrent workers.\n",
            "[Parallel(n_jobs=1)]: Done   1 out of   1 | elapsed:    1.0s remaining:    0.0s\n",
            "[Parallel(n_jobs=1)]: Done 162 out of 162 | elapsed:  2.5min finished\n",
            "\n",
            "[2019-02-27 09:34:45] Features: 5/10 -- score: 0.9877726821610893[Parallel(n_jobs=1)]: Using backend SequentialBackend with 1 concurrent workers.\n",
            "[Parallel(n_jobs=1)]: Done   1 out of   1 | elapsed:    1.1s remaining:    0.0s\n",
            "[Parallel(n_jobs=1)]: Done 161 out of 161 | elapsed:  2.7min finished\n",
            "\n",
            "[2019-02-27 09:37:25] Features: 6/10 -- score: 0.9869748253471975[Parallel(n_jobs=1)]: Using backend SequentialBackend with 1 concurrent workers.\n",
            "[Parallel(n_jobs=1)]: Done   1 out of   1 | elapsed:    1.2s remaining:    0.0s\n",
            "[Parallel(n_jobs=1)]: Done 160 out of 160 | elapsed:  2.8min finished\n",
            "\n",
            "[2019-02-27 09:40:15] Features: 7/10 -- score: 0.9864883272899464[Parallel(n_jobs=1)]: Using backend SequentialBackend with 1 concurrent workers.\n",
            "[Parallel(n_jobs=1)]: Done   1 out of   1 | elapsed:    1.2s remaining:    0.0s\n",
            "[Parallel(n_jobs=1)]: Done 159 out of 159 | elapsed:  3.1min finished\n",
            "\n",
            "[2019-02-27 09:43:22] Features: 8/10 -- score: 0.9839196175476606[Parallel(n_jobs=1)]: Using backend SequentialBackend with 1 concurrent workers.\n",
            "[Parallel(n_jobs=1)]: Done   1 out of   1 | elapsed:    1.4s remaining:    0.0s\n",
            "[Parallel(n_jobs=1)]: Done 158 out of 158 | elapsed:  3.7min finished\n",
            "\n",
            "[2019-02-27 09:47:03] Features: 9/10 -- score: 0.9868126593281138[Parallel(n_jobs=1)]: Using backend SequentialBackend with 1 concurrent workers.\n",
            "[Parallel(n_jobs=1)]: Done   1 out of   1 | elapsed:    1.4s remaining:    0.0s\n",
            "[Parallel(n_jobs=1)]: Done 157 out of 157 | elapsed:  3.4min finished\n",
            "\n",
            "[2019-02-27 09:50:26] Features: 10/10 -- score: 0.9860796689218554"
          ],
          "name": "stderr"
        }
      ]
    },
    {
      "metadata": {
        "id": "ypLhloOkRVyo",
        "colab_type": "code",
        "colab": {
          "base_uri": "https://localhost:8080/",
          "height": 34
        },
        "outputId": "bd822b5f-d3a3-4610-f70b-fd63b6984c8d"
      },
      "cell_type": "code",
      "source": [
        "feat_cols = list(sfs2.k_feature_idx_)\n",
        "print(feat_cols)"
      ],
      "execution_count": 304,
      "outputs": [
        {
          "output_type": "stream",
          "text": [
            "[1, 2, 16, 17, 18, 21, 25, 86, 95, 164]\n"
          ],
          "name": "stdout"
        }
      ]
    },
    {
      "metadata": {
        "id": "RDHIpmwChysY",
        "colab_type": "code",
        "colab": {
          "base_uri": "https://localhost:8080/",
          "height": 87
        },
        "outputId": "94bb5b0a-8623-44e3-a8a2-e2e9b6320171"
      },
      "cell_type": "code",
      "source": [
        "X1.columns[feat_cols]"
      ],
      "execution_count": 305,
      "outputs": [
        {
          "output_type": "execute_result",
          "data": {
            "text/plain": [
              "Index(['funded_amnt', 'funded_amnt_inv', 'total_pymnt', 'total_pymnt_inv',\n",
              "       'total_rec_prncp', 'recoveries', 'policy_code', 'emp_length_< 1 year',\n",
              "       'verification_status_Verified', 'initial_list_status_w'],\n",
              "      dtype='object')"
            ]
          },
          "metadata": {
            "tags": []
          },
          "execution_count": 305
        }
      ]
    },
    {
      "metadata": {
        "id": "3y72nFd3iESj",
        "colab_type": "code",
        "colab": {}
      },
      "cell_type": "code",
      "source": [
        "y_train_pred = clf.predict(X_train[X1.columns[feat_cols]])"
      ],
      "execution_count": 0,
      "outputs": []
    },
    {
      "metadata": {
        "id": "Tltj2wT3iQIL",
        "colab_type": "code",
        "colab": {
          "base_uri": "https://localhost:8080/",
          "height": 52
        },
        "outputId": "ab535fc5-8dbf-41d8-d467-b0c95291ed1f"
      },
      "cell_type": "code",
      "source": [
        "from sklearn.metrics import accuracy_score as acc\n",
        "print('Training accuracy on selected features: %.3f' % acc(y_train, y_train_pred))\n",
        "\n",
        "y_test_pred = clf.predict(X_test[X1.columns[feat_cols]])\n",
        "print('Testing accuracy on selected features: %.3f' % acc(y_test, y_test_pred))"
      ],
      "execution_count": 312,
      "outputs": [
        {
          "output_type": "stream",
          "text": [
            "Training accuracy on selected features: 0.985\n",
            "Testing accuracy on selected features: 0.985\n"
          ],
          "name": "stdout"
        }
      ]
    },
    {
      "metadata": {
        "id": "L9BPb3JYkgEi",
        "colab_type": "code",
        "colab": {}
      },
      "cell_type": "code",
      "source": [
        ""
      ],
      "execution_count": 0,
      "outputs": []
    }
  ]
}